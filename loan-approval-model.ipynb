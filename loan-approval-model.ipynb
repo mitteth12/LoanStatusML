{
 "cells": [
  {
   "cell_type": "markdown",
   "id": "handled-migration",
   "metadata": {
    "papermill": {
     "duration": 0.068737,
     "end_time": "2021-05-20T00:15:48.302213",
     "exception": false,
     "start_time": "2021-05-20T00:15:48.233476",
     "status": "completed"
    },
    "tags": []
   },
   "source": [
    "# Loan Approval Model"
   ]
  },
  {
   "cell_type": "markdown",
   "id": "annual-meter",
   "metadata": {
    "papermill": {
     "duration": 0.073589,
     "end_time": "2021-05-20T00:15:48.456965",
     "exception": false,
     "start_time": "2021-05-20T00:15:48.383376",
     "status": "completed"
    },
    "tags": []
   },
   "source": [
    "**Purpose:** The purpose of this notebook is to work with machine learning techniques to make the best model for approving or denying loan applications.\n",
    "\n",
    "**Result:** Able to produce a model with approximately 80% accuracy."
   ]
  },
  {
   "cell_type": "markdown",
   "id": "loving-accordance",
   "metadata": {
    "papermill": {
     "duration": 0.065884,
     "end_time": "2021-05-20T00:15:48.588665",
     "exception": false,
     "start_time": "2021-05-20T00:15:48.522781",
     "status": "completed"
    },
    "tags": []
   },
   "source": [
    "## Table of Contents\n",
    "\n",
    "* **[Analyzing the Data](#Analyzing-the-Data)**\n",
    "* **[Cleaning the Data](#Cleaning-the-Data)**\n",
    "* **[Modeling the Data](#Modeling-the-Data)**"
   ]
  },
  {
   "cell_type": "code",
   "execution_count": 1,
   "id": "satisfactory-application",
   "metadata": {
    "execution": {
     "iopub.execute_input": "2021-05-20T00:15:48.725036Z",
     "iopub.status.busy": "2021-05-20T00:15:48.723837Z",
     "iopub.status.idle": "2021-05-20T00:15:48.745000Z",
     "shell.execute_reply": "2021-05-20T00:15:48.745815Z",
     "shell.execute_reply.started": "2021-05-20T00:01:29.451341Z"
    },
    "papermill": {
     "duration": 0.091926,
     "end_time": "2021-05-20T00:15:48.746247",
     "exception": false,
     "start_time": "2021-05-20T00:15:48.654321",
     "status": "completed"
    },
    "tags": []
   },
   "outputs": [
    {
     "name": "stdout",
     "output_type": "stream",
     "text": [
      "/kaggle/input/loan-prediction-problem-dataset/test_Y3wMUE5_7gLdaTN.csv\n",
      "/kaggle/input/loan-prediction-problem-dataset/train_u6lujuX_CVtuZ9i.csv\n"
     ]
    }
   ],
   "source": [
    "# This Python 3 environment comes with many helpful analytics libraries installed\n",
    "# It is defined by the kaggle/python Docker image: https://github.com/kaggle/docker-python\n",
    "# For example, here's several helpful packages to load\n",
    "\n",
    "import numpy as np # linear algebra\n",
    "import pandas as pd # data processing, CSV file I/O (e.g. pd.read_csv)\n",
    "\n",
    "# Input data files are available in the read-only \"../input/\" directory\n",
    "# For example, running this (by clicking run or pressing Shift+Enter) will list all files under the input directory\n",
    "\n",
    "import os\n",
    "for dirname, _, filenames in os.walk('/kaggle/input'):\n",
    "    for filename in filenames:\n",
    "        print(os.path.join(dirname, filename))\n",
    "\n",
    "# You can write up to 20GB to the current directory (/kaggle/working/) that gets preserved as output when you create a version using \"Save & Run All\" \n",
    "# You can also write temporary files to /kaggle/temp/, but they won't be saved outside of the current session"
   ]
  },
  {
   "cell_type": "code",
   "execution_count": 2,
   "id": "collectible-registration",
   "metadata": {
    "execution": {
     "iopub.execute_input": "2021-05-20T00:15:48.885893Z",
     "iopub.status.busy": "2021-05-20T00:15:48.884839Z",
     "iopub.status.idle": "2021-05-20T00:15:49.752773Z",
     "shell.execute_reply": "2021-05-20T00:15:49.752233Z",
     "shell.execute_reply.started": "2021-05-20T00:01:29.473131Z"
    },
    "papermill": {
     "duration": 0.938139,
     "end_time": "2021-05-20T00:15:49.752949",
     "exception": false,
     "start_time": "2021-05-20T00:15:48.814810",
     "status": "completed"
    },
    "tags": []
   },
   "outputs": [],
   "source": [
    "import matplotlib.pyplot as plt\n",
    "import seaborn as sns\n",
    "\n",
    "test = pd.read_csv('/kaggle/input/loan-prediction-problem-dataset/test_Y3wMUE5_7gLdaTN.csv')\n",
    "train = pd.read_csv('/kaggle/input/loan-prediction-problem-dataset/train_u6lujuX_CVtuZ9i.csv')\n",
    "train_original = train.copy()\n",
    "test_original = test.copy()"
   ]
  },
  {
   "cell_type": "markdown",
   "id": "proper-adapter",
   "metadata": {
    "papermill": {
     "duration": 0.066475,
     "end_time": "2021-05-20T00:15:49.886037",
     "exception": false,
     "start_time": "2021-05-20T00:15:49.819562",
     "status": "completed"
    },
    "tags": []
   },
   "source": [
    "## Analyzing the Data"
   ]
  },
  {
   "cell_type": "code",
   "execution_count": 3,
   "id": "hourly-morris",
   "metadata": {
    "execution": {
     "iopub.execute_input": "2021-05-20T00:15:50.047151Z",
     "iopub.status.busy": "2021-05-20T00:15:50.036256Z",
     "iopub.status.idle": "2021-05-20T00:15:50.050734Z",
     "shell.execute_reply": "2021-05-20T00:15:50.050061Z",
     "shell.execute_reply.started": "2021-05-20T00:01:29.802275Z"
    },
    "papermill": {
     "duration": 0.098118,
     "end_time": "2021-05-20T00:15:50.050872",
     "exception": false,
     "start_time": "2021-05-20T00:15:49.952754",
     "status": "completed"
    },
    "tags": []
   },
   "outputs": [
    {
     "name": "stdout",
     "output_type": "stream",
     "text": [
      "<class 'pandas.core.frame.DataFrame'>\n",
      "RangeIndex: 614 entries, 0 to 613\n",
      "Data columns (total 13 columns):\n",
      " #   Column             Non-Null Count  Dtype  \n",
      "---  ------             --------------  -----  \n",
      " 0   Loan_ID            614 non-null    object \n",
      " 1   Gender             601 non-null    object \n",
      " 2   Married            611 non-null    object \n",
      " 3   Dependents         599 non-null    object \n",
      " 4   Education          614 non-null    object \n",
      " 5   Self_Employed      582 non-null    object \n",
      " 6   ApplicantIncome    614 non-null    int64  \n",
      " 7   CoapplicantIncome  614 non-null    float64\n",
      " 8   LoanAmount         592 non-null    float64\n",
      " 9   Loan_Amount_Term   600 non-null    float64\n",
      " 10  Credit_History     564 non-null    float64\n",
      " 11  Property_Area      614 non-null    object \n",
      " 12  Loan_Status        614 non-null    object \n",
      "dtypes: float64(4), int64(1), object(8)\n",
      "memory usage: 62.5+ KB\n"
     ]
    }
   ],
   "source": [
    "train.info()"
   ]
  },
  {
   "cell_type": "code",
   "execution_count": 4,
   "id": "hundred-territory",
   "metadata": {
    "execution": {
     "iopub.execute_input": "2021-05-20T00:15:50.190815Z",
     "iopub.status.busy": "2021-05-20T00:15:50.190136Z",
     "iopub.status.idle": "2021-05-20T00:15:50.192508Z",
     "shell.execute_reply": "2021-05-20T00:15:50.192978Z",
     "shell.execute_reply.started": "2021-05-20T00:01:29.819868Z"
    },
    "papermill": {
     "duration": 0.073775,
     "end_time": "2021-05-20T00:15:50.193161",
     "exception": false,
     "start_time": "2021-05-20T00:15:50.119386",
     "status": "completed"
    },
    "tags": []
   },
   "outputs": [],
   "source": [
    "#plt.hist(train['ApplicantIncome']) #Will need to do a log transformation on this column\n",
    "#plt.hist(train['CoapplicantIncome']) #Will need to do a log transformation on this column\n",
    "#plt.hist(train['LoanAmount']) #Will need to do a log transformation on this column\n",
    "#plt.hist(train['Loan_Amount_Term'])\n",
    "#plt.hist(train['Credit_History'])"
   ]
  },
  {
   "cell_type": "markdown",
   "id": "developing-convenience",
   "metadata": {
    "papermill": {
     "duration": 0.066313,
     "end_time": "2021-05-20T00:15:50.326766",
     "exception": false,
     "start_time": "2021-05-20T00:15:50.260453",
     "status": "completed"
    },
    "tags": []
   },
   "source": [
    "Will need to apply log transformations on the test columns ApplicantIncome, CoapplicantIncome and LoanAmount."
   ]
  },
  {
   "cell_type": "code",
   "execution_count": 5,
   "id": "reasonable-absolute",
   "metadata": {
    "execution": {
     "iopub.execute_input": "2021-05-20T00:15:50.470103Z",
     "iopub.status.busy": "2021-05-20T00:15:50.469064Z",
     "iopub.status.idle": "2021-05-20T00:15:50.499609Z",
     "shell.execute_reply": "2021-05-20T00:15:50.500179Z",
     "shell.execute_reply.started": "2021-05-20T00:01:29.831003Z"
    },
    "papermill": {
     "duration": 0.107008,
     "end_time": "2021-05-20T00:15:50.500383",
     "exception": false,
     "start_time": "2021-05-20T00:15:50.393375",
     "status": "completed"
    },
    "tags": []
   },
   "outputs": [
    {
     "data": {
      "text/html": [
       "<div>\n",
       "<style scoped>\n",
       "    .dataframe tbody tr th:only-of-type {\n",
       "        vertical-align: middle;\n",
       "    }\n",
       "\n",
       "    .dataframe tbody tr th {\n",
       "        vertical-align: top;\n",
       "    }\n",
       "\n",
       "    .dataframe thead th {\n",
       "        text-align: right;\n",
       "    }\n",
       "</style>\n",
       "<table border=\"1\" class=\"dataframe\">\n",
       "  <thead>\n",
       "    <tr style=\"text-align: right;\">\n",
       "      <th></th>\n",
       "      <th>ApplicantIncome</th>\n",
       "      <th>CoapplicantIncome</th>\n",
       "      <th>LoanAmount</th>\n",
       "      <th>Loan_Amount_Term</th>\n",
       "      <th>Credit_History</th>\n",
       "    </tr>\n",
       "  </thead>\n",
       "  <tbody>\n",
       "    <tr>\n",
       "      <th>count</th>\n",
       "      <td>614.000000</td>\n",
       "      <td>614.000000</td>\n",
       "      <td>592.000000</td>\n",
       "      <td>600.00000</td>\n",
       "      <td>564.000000</td>\n",
       "    </tr>\n",
       "    <tr>\n",
       "      <th>mean</th>\n",
       "      <td>5403.459283</td>\n",
       "      <td>1621.245798</td>\n",
       "      <td>146.412162</td>\n",
       "      <td>342.00000</td>\n",
       "      <td>0.842199</td>\n",
       "    </tr>\n",
       "    <tr>\n",
       "      <th>std</th>\n",
       "      <td>6109.041673</td>\n",
       "      <td>2926.248369</td>\n",
       "      <td>85.587325</td>\n",
       "      <td>65.12041</td>\n",
       "      <td>0.364878</td>\n",
       "    </tr>\n",
       "    <tr>\n",
       "      <th>min</th>\n",
       "      <td>150.000000</td>\n",
       "      <td>0.000000</td>\n",
       "      <td>9.000000</td>\n",
       "      <td>12.00000</td>\n",
       "      <td>0.000000</td>\n",
       "    </tr>\n",
       "    <tr>\n",
       "      <th>25%</th>\n",
       "      <td>2877.500000</td>\n",
       "      <td>0.000000</td>\n",
       "      <td>100.000000</td>\n",
       "      <td>360.00000</td>\n",
       "      <td>1.000000</td>\n",
       "    </tr>\n",
       "    <tr>\n",
       "      <th>50%</th>\n",
       "      <td>3812.500000</td>\n",
       "      <td>1188.500000</td>\n",
       "      <td>128.000000</td>\n",
       "      <td>360.00000</td>\n",
       "      <td>1.000000</td>\n",
       "    </tr>\n",
       "    <tr>\n",
       "      <th>75%</th>\n",
       "      <td>5795.000000</td>\n",
       "      <td>2297.250000</td>\n",
       "      <td>168.000000</td>\n",
       "      <td>360.00000</td>\n",
       "      <td>1.000000</td>\n",
       "    </tr>\n",
       "    <tr>\n",
       "      <th>max</th>\n",
       "      <td>81000.000000</td>\n",
       "      <td>41667.000000</td>\n",
       "      <td>700.000000</td>\n",
       "      <td>480.00000</td>\n",
       "      <td>1.000000</td>\n",
       "    </tr>\n",
       "  </tbody>\n",
       "</table>\n",
       "</div>"
      ],
      "text/plain": [
       "       ApplicantIncome  CoapplicantIncome  LoanAmount  Loan_Amount_Term  \\\n",
       "count       614.000000         614.000000  592.000000         600.00000   \n",
       "mean       5403.459283        1621.245798  146.412162         342.00000   \n",
       "std        6109.041673        2926.248369   85.587325          65.12041   \n",
       "min         150.000000           0.000000    9.000000          12.00000   \n",
       "25%        2877.500000           0.000000  100.000000         360.00000   \n",
       "50%        3812.500000        1188.500000  128.000000         360.00000   \n",
       "75%        5795.000000        2297.250000  168.000000         360.00000   \n",
       "max       81000.000000       41667.000000  700.000000         480.00000   \n",
       "\n",
       "       Credit_History  \n",
       "count      564.000000  \n",
       "mean         0.842199  \n",
       "std          0.364878  \n",
       "min          0.000000  \n",
       "25%          1.000000  \n",
       "50%          1.000000  \n",
       "75%          1.000000  \n",
       "max          1.000000  "
      ]
     },
     "execution_count": 5,
     "metadata": {},
     "output_type": "execute_result"
    }
   ],
   "source": [
    "train.describe()"
   ]
  },
  {
   "cell_type": "markdown",
   "id": "adolescent-convergence",
   "metadata": {
    "papermill": {
     "duration": 0.06691,
     "end_time": "2021-05-20T00:15:50.634849",
     "exception": false,
     "start_time": "2021-05-20T00:15:50.567939",
     "status": "completed"
    },
    "tags": []
   },
   "source": [
    "We have some missing data in LoanAmount, Loan_Amount_Term and Credit_History that will have to get cleaned up. "
   ]
  },
  {
   "cell_type": "code",
   "execution_count": 6,
   "id": "statutory-survival",
   "metadata": {
    "execution": {
     "iopub.execute_input": "2021-05-20T00:15:50.774321Z",
     "iopub.status.busy": "2021-05-20T00:15:50.773651Z",
     "iopub.status.idle": "2021-05-20T00:15:50.950187Z",
     "shell.execute_reply": "2021-05-20T00:15:50.949669Z",
     "shell.execute_reply.started": "2021-05-20T00:01:29.868294Z"
    },
    "papermill": {
     "duration": 0.246898,
     "end_time": "2021-05-20T00:15:50.950326",
     "exception": false,
     "start_time": "2021-05-20T00:15:50.703428",
     "status": "completed"
    },
    "tags": []
   },
   "outputs": [
    {
     "data": {
      "text/plain": [
       "<AxesSubplot:title={'center':'Genders'}>"
      ]
     },
     "execution_count": 6,
     "metadata": {},
     "output_type": "execute_result"
    },
    {
     "data": {
      "image/png": "[encoded data removed]",
      "text/plain": [
       "<Figure size 432x288 with 1 Axes>"
      ]
     },
     "metadata": {
      "needs_background": "light"
     },
     "output_type": "display_data"
    }
   ],
   "source": [
    "plt.title('Genders')\n",
    "train['Gender'].value_counts().plot.bar()"
   ]
  },
  {
   "cell_type": "markdown",
   "id": "planned-combat",
   "metadata": {
    "papermill": {
     "duration": 0.067655,
     "end_time": "2021-05-20T00:15:51.086848",
     "exception": false,
     "start_time": "2021-05-20T00:15:51.019193",
     "status": "completed"
    },
    "tags": []
   },
   "source": [
    "Working with what looks like about three times as many Males than Females in the train dataset."
   ]
  },
  {
   "cell_type": "code",
   "execution_count": 7,
   "id": "incredible-occasion",
   "metadata": {
    "execution": {
     "iopub.execute_input": "2021-05-20T00:15:51.226622Z",
     "iopub.status.busy": "2021-05-20T00:15:51.225950Z",
     "iopub.status.idle": "2021-05-20T00:15:51.356175Z",
     "shell.execute_reply": "2021-05-20T00:15:51.356659Z",
     "shell.execute_reply.started": "2021-05-20T00:01:30.003248Z"
    },
    "papermill": {
     "duration": 0.201527,
     "end_time": "2021-05-20T00:15:51.356845",
     "exception": false,
     "start_time": "2021-05-20T00:15:51.155318",
     "status": "completed"
    },
    "tags": []
   },
   "outputs": [
    {
     "data": {
      "text/plain": [
       "<AxesSubplot:title={'center':'Marital Status'}>"
      ]
     },
     "execution_count": 7,
     "metadata": {},
     "output_type": "execute_result"
    },
    {
     "data": {
      "image/png": "[encoded data removed]",
      "text/plain": [
       "<Figure size 432x288 with 1 Axes>"
      ]
     },
     "metadata": {
      "needs_background": "light"
     },
     "output_type": "display_data"
    }
   ],
   "source": [
    "plt.title('Marital Status')\n",
    "train['Married'].value_counts().plot.bar()"
   ]
  },
  {
   "cell_type": "markdown",
   "id": "verified-brooklyn",
   "metadata": {
    "papermill": {
     "duration": 0.068534,
     "end_time": "2021-05-20T00:15:51.494807",
     "exception": false,
     "start_time": "2021-05-20T00:15:51.426273",
     "status": "completed"
    },
    "tags": []
   },
   "source": [
    "Married is essentially a boolean column split up into yes and no answers. Looks like more of the train dataset includes people who are married."
   ]
  },
  {
   "cell_type": "code",
   "execution_count": 8,
   "id": "proprietary-nevada",
   "metadata": {
    "execution": {
     "iopub.execute_input": "2021-05-20T00:15:51.636354Z",
     "iopub.status.busy": "2021-05-20T00:15:51.635708Z",
     "iopub.status.idle": "2021-05-20T00:15:51.769030Z",
     "shell.execute_reply": "2021-05-20T00:15:51.769515Z",
     "shell.execute_reply.started": "2021-05-20T00:01:30.138552Z"
    },
    "papermill": {
     "duration": 0.205555,
     "end_time": "2021-05-20T00:15:51.769691",
     "exception": false,
     "start_time": "2021-05-20T00:15:51.564136",
     "status": "completed"
    },
    "tags": []
   },
   "outputs": [
    {
     "data": {
      "text/plain": [
       "<AxesSubplot:title={'center':'Dependents'}>"
      ]
     },
     "execution_count": 8,
     "metadata": {},
     "output_type": "execute_result"
    },
    {
     "data": {
      "image/png": "[encoded data removed]",
      "text/plain": [
       "<Figure size 432x288 with 1 Axes>"
      ]
     },
     "metadata": {
      "needs_background": "light"
     },
     "output_type": "display_data"
    }
   ],
   "source": [
    "plt.title('Dependents')\n",
    "train['Dependents'].value_counts().plot.bar()"
   ]
  },
  {
   "cell_type": "markdown",
   "id": "manual-juvenile",
   "metadata": {
    "papermill": {
     "duration": 0.071246,
     "end_time": "2021-05-20T00:15:51.911724",
     "exception": false,
     "start_time": "2021-05-20T00:15:51.840478",
     "status": "completed"
    },
    "tags": []
   },
   "source": [
    "The dependents column looks to be a column illustrating the amount of people that an independent claims. Most of the independents applying for loans look to have 0 dependents."
   ]
  },
  {
   "cell_type": "code",
   "execution_count": 9,
   "id": "religious-cemetery",
   "metadata": {
    "execution": {
     "iopub.execute_input": "2021-05-20T00:15:52.089137Z",
     "iopub.status.busy": "2021-05-20T00:15:52.088470Z",
     "iopub.status.idle": "2021-05-20T00:15:52.185044Z",
     "shell.execute_reply": "2021-05-20T00:15:52.184491Z",
     "shell.execute_reply.started": "2021-05-20T00:01:30.274278Z"
    },
    "papermill": {
     "duration": 0.200675,
     "end_time": "2021-05-20T00:15:52.185194",
     "exception": false,
     "start_time": "2021-05-20T00:15:51.984519",
     "status": "completed"
    },
    "tags": []
   },
   "outputs": [
    {
     "data": {
      "text/plain": [
       "<AxesSubplot:title={'center':'Education'}>"
      ]
     },
     "execution_count": 9,
     "metadata": {},
     "output_type": "execute_result"
    },
    {
     "data": {
      "image/png": "[encoded data removed]",
      "text/plain": [
       "<Figure size 432x288 with 1 Axes>"
      ]
     },
     "metadata": {
      "needs_background": "light"
     },
     "output_type": "display_data"
    }
   ],
   "source": [
    "plt.title('Education')\n",
    "train['Education'].value_counts().plot.bar()"
   ]
  },
  {
   "cell_type": "markdown",
   "id": "industrial-prerequisite",
   "metadata": {
    "papermill": {
     "duration": 0.070178,
     "end_time": "2021-05-20T00:15:52.326169",
     "exception": false,
     "start_time": "2021-05-20T00:15:52.255991",
     "status": "completed"
    },
    "tags": []
   },
   "source": [
    "For the education column what we see is a little vague. No data description is given of this column. We see that there are more graduates than not, but we are not sure if this means people that graduate high school or university. The assumption would be that a graduate would mean from university, but we cannot be certain."
   ]
  },
  {
   "cell_type": "code",
   "execution_count": 10,
   "id": "hourly-camcorder",
   "metadata": {
    "execution": {
     "iopub.execute_input": "2021-05-20T00:15:52.492014Z",
     "iopub.status.busy": "2021-05-20T00:15:52.491299Z",
     "iopub.status.idle": "2021-05-20T00:15:52.593199Z",
     "shell.execute_reply": "2021-05-20T00:15:52.593785Z",
     "shell.execute_reply.started": "2021-05-20T00:01:30.397576Z"
    },
    "papermill": {
     "duration": 0.197314,
     "end_time": "2021-05-20T00:15:52.593980",
     "exception": false,
     "start_time": "2021-05-20T00:15:52.396666",
     "status": "completed"
    },
    "tags": []
   },
   "outputs": [
    {
     "data": {
      "text/plain": [
       "<AxesSubplot:title={'center':'Self-Employed'}>"
      ]
     },
     "execution_count": 10,
     "metadata": {},
     "output_type": "execute_result"
    },
    {
     "data": {
      "image/png": "[encoded data removed]",
      "text/plain": [
       "<Figure size 432x288 with 1 Axes>"
      ]
     },
     "metadata": {
      "needs_background": "light"
     },
     "output_type": "display_data"
    }
   ],
   "source": [
    "plt.title('Self-Employed')\n",
    "train['Self_Employed'].value_counts().plot.bar()"
   ]
  },
  {
   "cell_type": "markdown",
   "id": "distributed-latitude",
   "metadata": {
    "papermill": {
     "duration": 0.072945,
     "end_time": "2021-05-20T00:15:52.739276",
     "exception": false,
     "start_time": "2021-05-20T00:15:52.666331",
     "status": "completed"
    },
    "tags": []
   },
   "source": [
    "This column is straight forward and it looks like most loan applicants are not self-employed."
   ]
  },
  {
   "cell_type": "code",
   "execution_count": 11,
   "id": "serial-payroll",
   "metadata": {
    "execution": {
     "iopub.execute_input": "2021-05-20T00:15:52.888277Z",
     "iopub.status.busy": "2021-05-20T00:15:52.887628Z",
     "iopub.status.idle": "2021-05-20T00:15:53.005658Z",
     "shell.execute_reply": "2021-05-20T00:15:53.006175Z",
     "shell.execute_reply.started": "2021-05-20T00:01:30.513545Z"
    },
    "papermill": {
     "duration": 0.194652,
     "end_time": "2021-05-20T00:15:53.006346",
     "exception": false,
     "start_time": "2021-05-20T00:15:52.811694",
     "status": "completed"
    },
    "tags": []
   },
   "outputs": [
    {
     "data": {
      "text/plain": [
       "<AxesSubplot:title={'center':'Property Area'}>"
      ]
     },
     "execution_count": 11,
     "metadata": {},
     "output_type": "execute_result"
    },
    {
     "data": {
      "image/png": "[encoded data removed]",
      "text/plain": [
       "<Figure size 432x288 with 1 Axes>"
      ]
     },
     "metadata": {
      "needs_background": "light"
     },
     "output_type": "display_data"
    }
   ],
   "source": [
    "plt.title('Property Area')\n",
    "train['Property_Area'].value_counts().plot.bar()"
   ]
  },
  {
   "cell_type": "markdown",
   "id": "german-roller",
   "metadata": {
    "papermill": {
     "duration": 0.072375,
     "end_time": "2021-05-20T00:15:53.151429",
     "exception": false,
     "start_time": "2021-05-20T00:15:53.079054",
     "status": "completed"
    },
    "tags": []
   },
   "source": [
    "We seem to have a pretty equal distribution of property area, semiurban being the most popular area."
   ]
  },
  {
   "cell_type": "code",
   "execution_count": 12,
   "id": "hollow-gauge",
   "metadata": {
    "execution": {
     "iopub.execute_input": "2021-05-20T00:15:53.300130Z",
     "iopub.status.busy": "2021-05-20T00:15:53.299519Z",
     "iopub.status.idle": "2021-05-20T00:15:53.417694Z",
     "shell.execute_reply": "2021-05-20T00:15:53.418179Z",
     "shell.execute_reply.started": "2021-05-20T00:12:38.262687Z"
    },
    "papermill": {
     "duration": 0.194476,
     "end_time": "2021-05-20T00:15:53.418354",
     "exception": false,
     "start_time": "2021-05-20T00:15:53.223878",
     "status": "completed"
    },
    "tags": []
   },
   "outputs": [
    {
     "data": {
      "text/plain": [
       "Y    422\n",
       "N    192\n",
       "Name: Loan_Status, dtype: int64"
      ]
     },
     "execution_count": 12,
     "metadata": {},
     "output_type": "execute_result"
    },
    {
     "data": {
      "image/png": "[encoded data removed]",
      "text/plain": [
       "<Figure size 432x288 with 1 Axes>"
      ]
     },
     "metadata": {
      "needs_background": "light"
     },
     "output_type": "display_data"
    }
   ],
   "source": [
    "plt.title('Loan Status')\n",
    "train['Loan_Status'].value_counts()"
   ]
  },
  {
   "cell_type": "markdown",
   "id": "incoming-craft",
   "metadata": {
    "papermill": {
     "duration": 0.07533,
     "end_time": "2021-05-20T00:15:53.567498",
     "exception": false,
     "start_time": "2021-05-20T00:15:53.492168",
     "status": "completed"
    },
    "tags": []
   },
   "source": [
    "Our last and most important column for our machine learning is the loan status column. This is the column that we are looking too predict. From here it looks like a good majority of applicants in the train dataset got there loan application approved."
   ]
  },
  {
   "cell_type": "markdown",
   "id": "fiscal-metadata",
   "metadata": {
    "papermill": {
     "duration": 0.073991,
     "end_time": "2021-05-20T00:15:53.714960",
     "exception": false,
     "start_time": "2021-05-20T00:15:53.640969",
     "status": "completed"
    },
    "tags": []
   },
   "source": [
    "From what is seen above it might be helpful to convert some of these columns to boolean. However we will do some categorical encoding, so it might be better to just leave as is."
   ]
  },
  {
   "cell_type": "markdown",
   "id": "favorite-process",
   "metadata": {
    "papermill": {
     "duration": 0.074721,
     "end_time": "2021-05-20T00:15:53.863098",
     "exception": false,
     "start_time": "2021-05-20T00:15:53.788377",
     "status": "completed"
    },
    "tags": []
   },
   "source": [
    "## Cleaning the Data"
   ]
  },
  {
   "cell_type": "markdown",
   "id": "above-penny",
   "metadata": {
    "papermill": {
     "duration": 0.074313,
     "end_time": "2021-05-20T00:15:54.011647",
     "exception": false,
     "start_time": "2021-05-20T00:15:53.937334",
     "status": "completed"
    },
    "tags": []
   },
   "source": [
    "For cleaning the data there are a couple of tasks that will need to be done in order to make sure that the model is running the best it can.\n",
    "* Clean up the missing values\n",
    "* Check for any duplicates\n",
    "* Make a separate train dataset where the columns that needed a logistic regression earlier are modified."
   ]
  },
  {
   "cell_type": "markdown",
   "id": "fresh-concert",
   "metadata": {
    "papermill": {
     "duration": 0.073423,
     "end_time": "2021-05-20T00:15:54.158646",
     "exception": false,
     "start_time": "2021-05-20T00:15:54.085223",
     "status": "completed"
    },
    "tags": []
   },
   "source": [
    "### Cleaning Missing Values"
   ]
  },
  {
   "cell_type": "markdown",
   "id": "economic-pollution",
   "metadata": {
    "papermill": {
     "duration": 0.073311,
     "end_time": "2021-05-20T00:15:54.305752",
     "exception": false,
     "start_time": "2021-05-20T00:15:54.232441",
     "status": "completed"
    },
    "tags": []
   },
   "source": [
    "So the process does not have to be done twice for train and test, the datasets will be merged while it is cleaned and then split back up after the data is put together like wanted."
   ]
  },
  {
   "cell_type": "code",
   "execution_count": 13,
   "id": "juvenile-highway",
   "metadata": {
    "execution": {
     "iopub.execute_input": "2021-05-20T00:15:54.456768Z",
     "iopub.status.busy": "2021-05-20T00:15:54.456114Z",
     "iopub.status.idle": "2021-05-20T00:15:54.468361Z",
     "shell.execute_reply": "2021-05-20T00:15:54.467698Z",
     "shell.execute_reply.started": "2021-05-20T00:01:30.868640Z"
    },
    "papermill": {
     "duration": 0.089077,
     "end_time": "2021-05-20T00:15:54.468500",
     "exception": false,
     "start_time": "2021-05-20T00:15:54.379423",
     "status": "completed"
    },
    "tags": []
   },
   "outputs": [
    {
     "name": "stdout",
     "output_type": "stream",
     "text": [
      "all_data size is : (981, 12)\n"
     ]
    }
   ],
   "source": [
    "ntrain = train.shape[0]\n",
    "ntest = test.shape[0]\n",
    "y = train.Loan_Status.values\n",
    "all_data = pd.concat((train, test)).reset_index(drop=True)\n",
    "all_data.drop(['Loan_Status'], axis=1, inplace=True)\n",
    "print(\"all_data size is : {}\".format(all_data.shape))\n",
    "\n",
    "\n",
    "#Credit to: https://stackoverflow.com/questions/18172851/deleting-dataframe-row-in-pandas-based-on-column-value for helping me understand the correct way to drop my columns"
   ]
  },
  {
   "cell_type": "markdown",
   "id": "authentic-mineral",
   "metadata": {
    "papermill": {
     "duration": 0.073514,
     "end_time": "2021-05-20T00:15:54.616061",
     "exception": false,
     "start_time": "2021-05-20T00:15:54.542547",
     "status": "completed"
    },
    "tags": []
   },
   "source": [
    "Now we have a dataset with the combination of rows for train and test and the loan_status column dropped."
   ]
  },
  {
   "cell_type": "code",
   "execution_count": 14,
   "id": "preceding-wallpaper",
   "metadata": {
    "execution": {
     "iopub.execute_input": "2021-05-20T00:15:54.775061Z",
     "iopub.status.busy": "2021-05-20T00:15:54.774332Z",
     "iopub.status.idle": "2021-05-20T00:15:54.905800Z",
     "shell.execute_reply": "2021-05-20T00:15:54.905120Z",
     "shell.execute_reply.started": "2021-05-20T00:01:30.884011Z"
    },
    "papermill": {
     "duration": 0.215455,
     "end_time": "2021-05-20T00:15:54.905964",
     "exception": false,
     "start_time": "2021-05-20T00:15:54.690509",
     "status": "completed"
    },
    "tags": []
   },
   "outputs": [
    {
     "data": {
      "text/html": [
       "<div>\n",
       "<style scoped>\n",
       "    .dataframe tbody tr th:only-of-type {\n",
       "        vertical-align: middle;\n",
       "    }\n",
       "\n",
       "    .dataframe tbody tr th {\n",
       "        vertical-align: top;\n",
       "    }\n",
       "\n",
       "    .dataframe thead th {\n",
       "        text-align: right;\n",
       "    }\n",
       "</style>\n",
       "<table border=\"1\" class=\"dataframe\">\n",
       "  <thead>\n",
       "    <tr style=\"text-align: right;\">\n",
       "      <th></th>\n",
       "      <th>Missing Ratio</th>\n",
       "    </tr>\n",
       "  </thead>\n",
       "  <tbody>\n",
       "    <tr>\n",
       "      <th>Credit_History</th>\n",
       "      <td>8.053007</td>\n",
       "    </tr>\n",
       "    <tr>\n",
       "      <th>Self_Employed</th>\n",
       "      <td>5.606524</td>\n",
       "    </tr>\n",
       "    <tr>\n",
       "      <th>LoanAmount</th>\n",
       "      <td>2.752294</td>\n",
       "    </tr>\n",
       "    <tr>\n",
       "      <th>Dependents</th>\n",
       "      <td>2.548420</td>\n",
       "    </tr>\n",
       "    <tr>\n",
       "      <th>Gender</th>\n",
       "      <td>2.446483</td>\n",
       "    </tr>\n",
       "    <tr>\n",
       "      <th>Loan_Amount_Term</th>\n",
       "      <td>2.038736</td>\n",
       "    </tr>\n",
       "    <tr>\n",
       "      <th>Married</th>\n",
       "      <td>0.305810</td>\n",
       "    </tr>\n",
       "  </tbody>\n",
       "</table>\n",
       "</div>"
      ],
      "text/plain": [
       "                  Missing Ratio\n",
       "Credit_History         8.053007\n",
       "Self_Employed          5.606524\n",
       "LoanAmount             2.752294\n",
       "Dependents             2.548420\n",
       "Gender                 2.446483\n",
       "Loan_Amount_Term       2.038736\n",
       "Married                0.305810"
      ]
     },
     "execution_count": 14,
     "metadata": {},
     "output_type": "execute_result"
    }
   ],
   "source": [
    "#Checking percentage of data that is na\n",
    "all_data_na = (all_data.isnull().sum() / len(all_data)) * 100\n",
    "all_data_na = all_data_na.drop(all_data_na[all_data_na == 0].index).sort_values(ascending=False)[:30]\n",
    "missing_data = pd.DataFrame({'Missing Ratio' :all_data_na})\n",
    "missing_data.head(7)"
   ]
  },
  {
   "cell_type": "markdown",
   "id": "thirty-tonight",
   "metadata": {
    "papermill": {
     "duration": 0.074061,
     "end_time": "2021-05-20T00:15:55.055294",
     "exception": false,
     "start_time": "2021-05-20T00:15:54.981233",
     "status": "completed"
    },
    "tags": []
   },
   "source": [
    "Because we have such a low percentage of missing values in each row it can be seen that none of these rows will need to be dropped, just cleaned up."
   ]
  },
  {
   "cell_type": "code",
   "execution_count": 15,
   "id": "healthy-combining",
   "metadata": {
    "execution": {
     "iopub.execute_input": "2021-05-20T00:15:55.224644Z",
     "iopub.status.busy": "2021-05-20T00:15:55.223754Z",
     "iopub.status.idle": "2021-05-20T00:15:55.228065Z",
     "shell.execute_reply": "2021-05-20T00:15:55.227567Z",
     "shell.execute_reply.started": "2021-05-20T00:01:30.910259Z"
    },
    "papermill": {
     "duration": 0.097487,
     "end_time": "2021-05-20T00:15:55.228205",
     "exception": false,
     "start_time": "2021-05-20T00:15:55.130718",
     "status": "completed"
    },
    "tags": []
   },
   "outputs": [
    {
     "data": {
      "text/html": [
       "<div>\n",
       "<style scoped>\n",
       "    .dataframe tbody tr th:only-of-type {\n",
       "        vertical-align: middle;\n",
       "    }\n",
       "\n",
       "    .dataframe tbody tr th {\n",
       "        vertical-align: top;\n",
       "    }\n",
       "\n",
       "    .dataframe thead th {\n",
       "        text-align: right;\n",
       "    }\n",
       "</style>\n",
       "<table border=\"1\" class=\"dataframe\">\n",
       "  <thead>\n",
       "    <tr style=\"text-align: right;\">\n",
       "      <th></th>\n",
       "      <th>Loan_ID</th>\n",
       "      <th>Gender</th>\n",
       "      <th>Married</th>\n",
       "      <th>Dependents</th>\n",
       "      <th>Education</th>\n",
       "      <th>Self_Employed</th>\n",
       "      <th>ApplicantIncome</th>\n",
       "      <th>CoapplicantIncome</th>\n",
       "      <th>LoanAmount</th>\n",
       "      <th>Loan_Amount_Term</th>\n",
       "      <th>Credit_History</th>\n",
       "      <th>Property_Area</th>\n",
       "    </tr>\n",
       "  </thead>\n",
       "  <tbody>\n",
       "    <tr>\n",
       "      <th>0</th>\n",
       "      <td>LP001002</td>\n",
       "      <td>Male</td>\n",
       "      <td>No</td>\n",
       "      <td>0</td>\n",
       "      <td>Graduate</td>\n",
       "      <td>No</td>\n",
       "      <td>5849</td>\n",
       "      <td>0.0</td>\n",
       "      <td>NaN</td>\n",
       "      <td>360.0</td>\n",
       "      <td>1.0</td>\n",
       "      <td>Urban</td>\n",
       "    </tr>\n",
       "    <tr>\n",
       "      <th>1</th>\n",
       "      <td>LP001003</td>\n",
       "      <td>Male</td>\n",
       "      <td>Yes</td>\n",
       "      <td>1</td>\n",
       "      <td>Graduate</td>\n",
       "      <td>No</td>\n",
       "      <td>4583</td>\n",
       "      <td>1508.0</td>\n",
       "      <td>128.0</td>\n",
       "      <td>360.0</td>\n",
       "      <td>1.0</td>\n",
       "      <td>Rural</td>\n",
       "    </tr>\n",
       "    <tr>\n",
       "      <th>2</th>\n",
       "      <td>LP001005</td>\n",
       "      <td>Male</td>\n",
       "      <td>Yes</td>\n",
       "      <td>0</td>\n",
       "      <td>Graduate</td>\n",
       "      <td>Yes</td>\n",
       "      <td>3000</td>\n",
       "      <td>0.0</td>\n",
       "      <td>66.0</td>\n",
       "      <td>360.0</td>\n",
       "      <td>1.0</td>\n",
       "      <td>Urban</td>\n",
       "    </tr>\n",
       "    <tr>\n",
       "      <th>3</th>\n",
       "      <td>LP001006</td>\n",
       "      <td>Male</td>\n",
       "      <td>Yes</td>\n",
       "      <td>0</td>\n",
       "      <td>Not Graduate</td>\n",
       "      <td>No</td>\n",
       "      <td>2583</td>\n",
       "      <td>2358.0</td>\n",
       "      <td>120.0</td>\n",
       "      <td>360.0</td>\n",
       "      <td>1.0</td>\n",
       "      <td>Urban</td>\n",
       "    </tr>\n",
       "    <tr>\n",
       "      <th>4</th>\n",
       "      <td>LP001008</td>\n",
       "      <td>Male</td>\n",
       "      <td>No</td>\n",
       "      <td>0</td>\n",
       "      <td>Graduate</td>\n",
       "      <td>No</td>\n",
       "      <td>6000</td>\n",
       "      <td>0.0</td>\n",
       "      <td>141.0</td>\n",
       "      <td>360.0</td>\n",
       "      <td>1.0</td>\n",
       "      <td>Urban</td>\n",
       "    </tr>\n",
       "  </tbody>\n",
       "</table>\n",
       "</div>"
      ],
      "text/plain": [
       "    Loan_ID Gender Married Dependents     Education Self_Employed  \\\n",
       "0  LP001002   Male      No          0      Graduate            No   \n",
       "1  LP001003   Male     Yes          1      Graduate            No   \n",
       "2  LP001005   Male     Yes          0      Graduate           Yes   \n",
       "3  LP001006   Male     Yes          0  Not Graduate            No   \n",
       "4  LP001008   Male      No          0      Graduate            No   \n",
       "\n",
       "   ApplicantIncome  CoapplicantIncome  LoanAmount  Loan_Amount_Term  \\\n",
       "0             5849                0.0         NaN             360.0   \n",
       "1             4583             1508.0       128.0             360.0   \n",
       "2             3000                0.0        66.0             360.0   \n",
       "3             2583             2358.0       120.0             360.0   \n",
       "4             6000                0.0       141.0             360.0   \n",
       "\n",
       "   Credit_History Property_Area  \n",
       "0             1.0         Urban  \n",
       "1             1.0         Rural  \n",
       "2             1.0         Urban  \n",
       "3             1.0         Urban  \n",
       "4             1.0         Urban  "
      ]
     },
     "execution_count": 15,
     "metadata": {},
     "output_type": "execute_result"
    }
   ],
   "source": [
    "all_data.head()"
   ]
  },
  {
   "cell_type": "code",
   "execution_count": 16,
   "id": "activated-constraint",
   "metadata": {
    "execution": {
     "iopub.execute_input": "2021-05-20T00:15:55.384403Z",
     "iopub.status.busy": "2021-05-20T00:15:55.383422Z",
     "iopub.status.idle": "2021-05-20T00:15:55.390972Z",
     "shell.execute_reply": "2021-05-20T00:15:55.391532Z",
     "shell.execute_reply.started": "2021-05-20T00:01:30.932934Z"
    },
    "papermill": {
     "duration": 0.088423,
     "end_time": "2021-05-20T00:15:55.391705",
     "exception": false,
     "start_time": "2021-05-20T00:15:55.303282",
     "status": "completed"
    },
    "tags": []
   },
   "outputs": [
    {
     "data": {
      "text/plain": [
       "count    954.000000\n",
       "mean     142.511530\n",
       "std       77.421743\n",
       "min        9.000000\n",
       "25%      100.000000\n",
       "50%      126.000000\n",
       "75%      162.000000\n",
       "max      700.000000\n",
       "Name: LoanAmount, dtype: float64"
      ]
     },
     "execution_count": 16,
     "metadata": {},
     "output_type": "execute_result"
    }
   ],
   "source": [
    "all_data.LoanAmount.describe()"
   ]
  },
  {
   "cell_type": "markdown",
   "id": "brown-northeast",
   "metadata": {
    "papermill": {
     "duration": 0.074763,
     "end_time": "2021-05-20T00:15:55.541443",
     "exception": false,
     "start_time": "2021-05-20T00:15:55.466680",
     "status": "completed"
    },
    "tags": []
   },
   "source": [
    "Above I just wanted to quickly confirm that zero was not being counted as an NaN value or that No's were considered NaN's. As seen with the describe for Loan Amount column the lowest amount that there is, is nine which means that zeros are not apart of our range of values."
   ]
  },
  {
   "cell_type": "markdown",
   "id": "becoming-school",
   "metadata": {
    "papermill": {
     "duration": 0.074339,
     "end_time": "2021-05-20T00:15:55.690396",
     "exception": false,
     "start_time": "2021-05-20T00:15:55.616057",
     "status": "completed"
    },
    "tags": []
   },
   "source": [
    "#### Cleaning Numeric Variables"
   ]
  },
  {
   "cell_type": "markdown",
   "id": "motivated-american",
   "metadata": {
    "papermill": {
     "duration": 0.075609,
     "end_time": "2021-05-20T00:15:55.842209",
     "exception": false,
     "start_time": "2021-05-20T00:15:55.766600",
     "status": "completed"
    },
    "tags": []
   },
   "source": [
    "Now that we are setup to start cleaning the missing data we will split up the data into numeric and categorical variables."
   ]
  },
  {
   "cell_type": "code",
   "execution_count": 17,
   "id": "square-weight",
   "metadata": {
    "execution": {
     "iopub.execute_input": "2021-05-20T00:15:55.998046Z",
     "iopub.status.busy": "2021-05-20T00:15:55.996879Z",
     "iopub.status.idle": "2021-05-20T00:15:56.012304Z",
     "shell.execute_reply": "2021-05-20T00:15:56.012795Z",
     "shell.execute_reply.started": "2021-05-20T00:01:30.947270Z"
    },
    "papermill": {
     "duration": 0.094758,
     "end_time": "2021-05-20T00:15:56.012997",
     "exception": false,
     "start_time": "2021-05-20T00:15:55.918239",
     "status": "completed"
    },
    "tags": []
   },
   "outputs": [
    {
     "data": {
      "text/html": [
       "<div>\n",
       "<style scoped>\n",
       "    .dataframe tbody tr th:only-of-type {\n",
       "        vertical-align: middle;\n",
       "    }\n",
       "\n",
       "    .dataframe tbody tr th {\n",
       "        vertical-align: top;\n",
       "    }\n",
       "\n",
       "    .dataframe thead th {\n",
       "        text-align: right;\n",
       "    }\n",
       "</style>\n",
       "<table border=\"1\" class=\"dataframe\">\n",
       "  <thead>\n",
       "    <tr style=\"text-align: right;\">\n",
       "      <th></th>\n",
       "      <th>ApplicantIncome</th>\n",
       "      <th>CoapplicantIncome</th>\n",
       "      <th>LoanAmount</th>\n",
       "      <th>Loan_Amount_Term</th>\n",
       "      <th>Credit_History</th>\n",
       "    </tr>\n",
       "  </thead>\n",
       "  <tbody>\n",
       "    <tr>\n",
       "      <th>0</th>\n",
       "      <td>5849</td>\n",
       "      <td>0.0</td>\n",
       "      <td>NaN</td>\n",
       "      <td>360.0</td>\n",
       "      <td>1.0</td>\n",
       "    </tr>\n",
       "    <tr>\n",
       "      <th>1</th>\n",
       "      <td>4583</td>\n",
       "      <td>1508.0</td>\n",
       "      <td>128.0</td>\n",
       "      <td>360.0</td>\n",
       "      <td>1.0</td>\n",
       "    </tr>\n",
       "    <tr>\n",
       "      <th>2</th>\n",
       "      <td>3000</td>\n",
       "      <td>0.0</td>\n",
       "      <td>66.0</td>\n",
       "      <td>360.0</td>\n",
       "      <td>1.0</td>\n",
       "    </tr>\n",
       "    <tr>\n",
       "      <th>3</th>\n",
       "      <td>2583</td>\n",
       "      <td>2358.0</td>\n",
       "      <td>120.0</td>\n",
       "      <td>360.0</td>\n",
       "      <td>1.0</td>\n",
       "    </tr>\n",
       "    <tr>\n",
       "      <th>4</th>\n",
       "      <td>6000</td>\n",
       "      <td>0.0</td>\n",
       "      <td>141.0</td>\n",
       "      <td>360.0</td>\n",
       "      <td>1.0</td>\n",
       "    </tr>\n",
       "  </tbody>\n",
       "</table>\n",
       "</div>"
      ],
      "text/plain": [
       "   ApplicantIncome  CoapplicantIncome  LoanAmount  Loan_Amount_Term  \\\n",
       "0             5849                0.0         NaN             360.0   \n",
       "1             4583             1508.0       128.0             360.0   \n",
       "2             3000                0.0        66.0             360.0   \n",
       "3             2583             2358.0       120.0             360.0   \n",
       "4             6000                0.0       141.0             360.0   \n",
       "\n",
       "   Credit_History  \n",
       "0             1.0  \n",
       "1             1.0  \n",
       "2             1.0  \n",
       "3             1.0  \n",
       "4             1.0  "
      ]
     },
     "execution_count": 17,
     "metadata": {},
     "output_type": "execute_result"
    }
   ],
   "source": [
    "Numeric_Columns = all_data.select_dtypes(include=np.number) #Creating dataset for just the numeric columns\n",
    "Numeric_Columns.head()"
   ]
  },
  {
   "cell_type": "markdown",
   "id": "middle-arctic",
   "metadata": {
    "papermill": {
     "duration": 0.078166,
     "end_time": "2021-05-20T00:15:56.167375",
     "exception": false,
     "start_time": "2021-05-20T00:15:56.089209",
     "status": "completed"
    },
    "tags": []
   },
   "source": [
    "For this part of the process I am going to use simple imputer to quickly and effectively deal with my numeric missing data"
   ]
  },
  {
   "cell_type": "code",
   "execution_count": 18,
   "id": "professional-pakistan",
   "metadata": {
    "execution": {
     "iopub.execute_input": "2021-05-20T00:15:56.327301Z",
     "iopub.status.busy": "2021-05-20T00:15:56.326347Z",
     "iopub.status.idle": "2021-05-20T00:15:56.717064Z",
     "shell.execute_reply": "2021-05-20T00:15:56.716402Z",
     "shell.execute_reply.started": "2021-05-20T00:01:30.964613Z"
    },
    "papermill": {
     "duration": 0.473084,
     "end_time": "2021-05-20T00:15:56.717201",
     "exception": false,
     "start_time": "2021-05-20T00:15:56.244117",
     "status": "completed"
    },
    "tags": []
   },
   "outputs": [
    {
     "data": {
      "text/html": [
       "<div>\n",
       "<style scoped>\n",
       "    .dataframe tbody tr th:only-of-type {\n",
       "        vertical-align: middle;\n",
       "    }\n",
       "\n",
       "    .dataframe tbody tr th {\n",
       "        vertical-align: top;\n",
       "    }\n",
       "\n",
       "    .dataframe thead th {\n",
       "        text-align: right;\n",
       "    }\n",
       "</style>\n",
       "<table border=\"1\" class=\"dataframe\">\n",
       "  <thead>\n",
       "    <tr style=\"text-align: right;\">\n",
       "      <th></th>\n",
       "      <th>ApplicantIncome</th>\n",
       "      <th>CoapplicantIncome</th>\n",
       "      <th>LoanAmount</th>\n",
       "      <th>Loan_Amount_Term</th>\n",
       "      <th>Credit_History</th>\n",
       "      <th>Loan_ID</th>\n",
       "    </tr>\n",
       "  </thead>\n",
       "  <tbody>\n",
       "    <tr>\n",
       "      <th>0</th>\n",
       "      <td>5849.0</td>\n",
       "      <td>0.0</td>\n",
       "      <td>142.51153</td>\n",
       "      <td>360.0</td>\n",
       "      <td>1.0</td>\n",
       "      <td>LP001002</td>\n",
       "    </tr>\n",
       "    <tr>\n",
       "      <th>1</th>\n",
       "      <td>4583.0</td>\n",
       "      <td>1508.0</td>\n",
       "      <td>128.00000</td>\n",
       "      <td>360.0</td>\n",
       "      <td>1.0</td>\n",
       "      <td>LP001003</td>\n",
       "    </tr>\n",
       "    <tr>\n",
       "      <th>2</th>\n",
       "      <td>3000.0</td>\n",
       "      <td>0.0</td>\n",
       "      <td>66.00000</td>\n",
       "      <td>360.0</td>\n",
       "      <td>1.0</td>\n",
       "      <td>LP001005</td>\n",
       "    </tr>\n",
       "    <tr>\n",
       "      <th>3</th>\n",
       "      <td>2583.0</td>\n",
       "      <td>2358.0</td>\n",
       "      <td>120.00000</td>\n",
       "      <td>360.0</td>\n",
       "      <td>1.0</td>\n",
       "      <td>LP001006</td>\n",
       "    </tr>\n",
       "    <tr>\n",
       "      <th>4</th>\n",
       "      <td>6000.0</td>\n",
       "      <td>0.0</td>\n",
       "      <td>141.00000</td>\n",
       "      <td>360.0</td>\n",
       "      <td>1.0</td>\n",
       "      <td>LP001008</td>\n",
       "    </tr>\n",
       "  </tbody>\n",
       "</table>\n",
       "</div>"
      ],
      "text/plain": [
       "   ApplicantIncome  CoapplicantIncome  LoanAmount  Loan_Amount_Term  \\\n",
       "0           5849.0                0.0   142.51153             360.0   \n",
       "1           4583.0             1508.0   128.00000             360.0   \n",
       "2           3000.0                0.0    66.00000             360.0   \n",
       "3           2583.0             2358.0   120.00000             360.0   \n",
       "4           6000.0                0.0   141.00000             360.0   \n",
       "\n",
       "   Credit_History   Loan_ID  \n",
       "0             1.0  LP001002  \n",
       "1             1.0  LP001003  \n",
       "2             1.0  LP001005  \n",
       "3             1.0  LP001006  \n",
       "4             1.0  LP001008  "
      ]
     },
     "execution_count": 18,
     "metadata": {},
     "output_type": "execute_result"
    }
   ],
   "source": [
    "from sklearn.impute import SimpleImputer\n",
    "\n",
    "my_imputer = SimpleImputer()\n",
    "imputed_num = pd.DataFrame(my_imputer.fit_transform(Numeric_Columns)) #Using simple imputer to fill in missing values\n",
    "\n",
    "imputed_num.columns = Numeric_Columns.columns #Making column headings the same for imputed_num as Numeric_Columns\n",
    "identification = all_data['Loan_ID'] #Making a column for Loan_ID to merge numerical and categorical data\n",
    "imputed_num = imputed_num.join(identification)\n",
    "imputed_num.head()"
   ]
  },
  {
   "cell_type": "markdown",
   "id": "innovative-artwork",
   "metadata": {
    "papermill": {
     "duration": 0.076405,
     "end_time": "2021-05-20T00:15:56.873063",
     "exception": false,
     "start_time": "2021-05-20T00:15:56.796658",
     "status": "completed"
    },
    "tags": []
   },
   "source": [
    "#### Cleaning Categorical Variables"
   ]
  },
  {
   "cell_type": "markdown",
   "id": "found-prediction",
   "metadata": {
    "papermill": {
     "duration": 0.075941,
     "end_time": "2021-05-20T00:15:57.025355",
     "exception": false,
     "start_time": "2021-05-20T00:15:56.949414",
     "status": "completed"
    },
    "tags": []
   },
   "source": [
    "For cleaning the categorical variables I am going to use get_dummies to effectively clean. This will also prove effective for my model."
   ]
  },
  {
   "cell_type": "code",
   "execution_count": 19,
   "id": "committed-liberal",
   "metadata": {
    "execution": {
     "iopub.execute_input": "2021-05-20T00:15:57.186534Z",
     "iopub.status.busy": "2021-05-20T00:15:57.185722Z",
     "iopub.status.idle": "2021-05-20T00:15:57.204252Z",
     "shell.execute_reply": "2021-05-20T00:15:57.203654Z",
     "shell.execute_reply.started": "2021-05-20T00:01:31.080384Z"
    },
    "papermill": {
     "duration": 0.10191,
     "end_time": "2021-05-20T00:15:57.204386",
     "exception": false,
     "start_time": "2021-05-20T00:15:57.102476",
     "status": "completed"
    },
    "tags": []
   },
   "outputs": [
    {
     "name": "stderr",
     "output_type": "stream",
     "text": [
      "/opt/conda/lib/python3.7/site-packages/pandas/core/frame.py:4315: SettingWithCopyWarning: \n",
      "A value is trying to be set on a copy of a slice from a DataFrame\n",
      "\n",
      "See the caveats in the documentation: https://pandas.pydata.org/pandas-docs/stable/user_guide/indexing.html#returning-a-view-versus-a-copy\n",
      "  errors=errors,\n"
     ]
    },
    {
     "data": {
      "text/html": [
       "<div>\n",
       "<style scoped>\n",
       "    .dataframe tbody tr th:only-of-type {\n",
       "        vertical-align: middle;\n",
       "    }\n",
       "\n",
       "    .dataframe tbody tr th {\n",
       "        vertical-align: top;\n",
       "    }\n",
       "\n",
       "    .dataframe thead th {\n",
       "        text-align: right;\n",
       "    }\n",
       "</style>\n",
       "<table border=\"1\" class=\"dataframe\">\n",
       "  <thead>\n",
       "    <tr style=\"text-align: right;\">\n",
       "      <th></th>\n",
       "      <th>Gender</th>\n",
       "      <th>Married</th>\n",
       "      <th>Dependents</th>\n",
       "      <th>Education</th>\n",
       "      <th>Self_Employed</th>\n",
       "      <th>Property_Area</th>\n",
       "    </tr>\n",
       "  </thead>\n",
       "  <tbody>\n",
       "    <tr>\n",
       "      <th>0</th>\n",
       "      <td>Male</td>\n",
       "      <td>No</td>\n",
       "      <td>0</td>\n",
       "      <td>Graduate</td>\n",
       "      <td>No</td>\n",
       "      <td>Urban</td>\n",
       "    </tr>\n",
       "    <tr>\n",
       "      <th>1</th>\n",
       "      <td>Male</td>\n",
       "      <td>Yes</td>\n",
       "      <td>1</td>\n",
       "      <td>Graduate</td>\n",
       "      <td>No</td>\n",
       "      <td>Rural</td>\n",
       "    </tr>\n",
       "    <tr>\n",
       "      <th>2</th>\n",
       "      <td>Male</td>\n",
       "      <td>Yes</td>\n",
       "      <td>0</td>\n",
       "      <td>Graduate</td>\n",
       "      <td>Yes</td>\n",
       "      <td>Urban</td>\n",
       "    </tr>\n",
       "    <tr>\n",
       "      <th>3</th>\n",
       "      <td>Male</td>\n",
       "      <td>Yes</td>\n",
       "      <td>0</td>\n",
       "      <td>Not Graduate</td>\n",
       "      <td>No</td>\n",
       "      <td>Urban</td>\n",
       "    </tr>\n",
       "    <tr>\n",
       "      <th>4</th>\n",
       "      <td>Male</td>\n",
       "      <td>No</td>\n",
       "      <td>0</td>\n",
       "      <td>Graduate</td>\n",
       "      <td>No</td>\n",
       "      <td>Urban</td>\n",
       "    </tr>\n",
       "  </tbody>\n",
       "</table>\n",
       "</div>"
      ],
      "text/plain": [
       "  Gender Married Dependents     Education Self_Employed Property_Area\n",
       "0   Male      No          0      Graduate            No         Urban\n",
       "1   Male     Yes          1      Graduate            No         Rural\n",
       "2   Male     Yes          0      Graduate           Yes         Urban\n",
       "3   Male     Yes          0  Not Graduate            No         Urban\n",
       "4   Male      No          0      Graduate            No         Urban"
      ]
     },
     "execution_count": 19,
     "metadata": {},
     "output_type": "execute_result"
    }
   ],
   "source": [
    "Categorical_Columns = all_data.select_dtypes(exclude=np.number)\n",
    "Categorical_Columns.drop(['Loan_ID'], axis=1, inplace=True)\n",
    "Categorical_Columns.head()"
   ]
  },
  {
   "cell_type": "code",
   "execution_count": 20,
   "id": "adolescent-leonard",
   "metadata": {
    "execution": {
     "iopub.execute_input": "2021-05-20T00:15:57.365826Z",
     "iopub.status.busy": "2021-05-20T00:15:57.365149Z",
     "iopub.status.idle": "2021-05-20T00:15:57.386622Z",
     "shell.execute_reply": "2021-05-20T00:15:57.386021Z",
     "shell.execute_reply.started": "2021-05-20T00:01:31.105016Z"
    },
    "papermill": {
     "duration": 0.104995,
     "end_time": "2021-05-20T00:15:57.386753",
     "exception": false,
     "start_time": "2021-05-20T00:15:57.281758",
     "status": "completed"
    },
    "tags": []
   },
   "outputs": [
    {
     "data": {
      "text/html": [
       "<div>\n",
       "<style scoped>\n",
       "    .dataframe tbody tr th:only-of-type {\n",
       "        vertical-align: middle;\n",
       "    }\n",
       "\n",
       "    .dataframe tbody tr th {\n",
       "        vertical-align: top;\n",
       "    }\n",
       "\n",
       "    .dataframe thead th {\n",
       "        text-align: right;\n",
       "    }\n",
       "</style>\n",
       "<table border=\"1\" class=\"dataframe\">\n",
       "  <thead>\n",
       "    <tr style=\"text-align: right;\">\n",
       "      <th></th>\n",
       "      <th>Gender_Female</th>\n",
       "      <th>Gender_Male</th>\n",
       "      <th>Married_No</th>\n",
       "      <th>Married_Yes</th>\n",
       "      <th>Dependents_0</th>\n",
       "      <th>Dependents_1</th>\n",
       "      <th>Dependents_2</th>\n",
       "      <th>Dependents_3+</th>\n",
       "      <th>Education_Graduate</th>\n",
       "      <th>Education_Not Graduate</th>\n",
       "      <th>Self_Employed_No</th>\n",
       "      <th>Self_Employed_Yes</th>\n",
       "      <th>Property_Area_Rural</th>\n",
       "      <th>Property_Area_Semiurban</th>\n",
       "      <th>Property_Area_Urban</th>\n",
       "    </tr>\n",
       "  </thead>\n",
       "  <tbody>\n",
       "    <tr>\n",
       "      <th>0</th>\n",
       "      <td>0</td>\n",
       "      <td>1</td>\n",
       "      <td>1</td>\n",
       "      <td>0</td>\n",
       "      <td>1</td>\n",
       "      <td>0</td>\n",
       "      <td>0</td>\n",
       "      <td>0</td>\n",
       "      <td>1</td>\n",
       "      <td>0</td>\n",
       "      <td>1</td>\n",
       "      <td>0</td>\n",
       "      <td>0</td>\n",
       "      <td>0</td>\n",
       "      <td>1</td>\n",
       "    </tr>\n",
       "    <tr>\n",
       "      <th>1</th>\n",
       "      <td>0</td>\n",
       "      <td>1</td>\n",
       "      <td>0</td>\n",
       "      <td>1</td>\n",
       "      <td>0</td>\n",
       "      <td>1</td>\n",
       "      <td>0</td>\n",
       "      <td>0</td>\n",
       "      <td>1</td>\n",
       "      <td>0</td>\n",
       "      <td>1</td>\n",
       "      <td>0</td>\n",
       "      <td>1</td>\n",
       "      <td>0</td>\n",
       "      <td>0</td>\n",
       "    </tr>\n",
       "    <tr>\n",
       "      <th>2</th>\n",
       "      <td>0</td>\n",
       "      <td>1</td>\n",
       "      <td>0</td>\n",
       "      <td>1</td>\n",
       "      <td>1</td>\n",
       "      <td>0</td>\n",
       "      <td>0</td>\n",
       "      <td>0</td>\n",
       "      <td>1</td>\n",
       "      <td>0</td>\n",
       "      <td>0</td>\n",
       "      <td>1</td>\n",
       "      <td>0</td>\n",
       "      <td>0</td>\n",
       "      <td>1</td>\n",
       "    </tr>\n",
       "    <tr>\n",
       "      <th>3</th>\n",
       "      <td>0</td>\n",
       "      <td>1</td>\n",
       "      <td>0</td>\n",
       "      <td>1</td>\n",
       "      <td>1</td>\n",
       "      <td>0</td>\n",
       "      <td>0</td>\n",
       "      <td>0</td>\n",
       "      <td>0</td>\n",
       "      <td>1</td>\n",
       "      <td>1</td>\n",
       "      <td>0</td>\n",
       "      <td>0</td>\n",
       "      <td>0</td>\n",
       "      <td>1</td>\n",
       "    </tr>\n",
       "    <tr>\n",
       "      <th>4</th>\n",
       "      <td>0</td>\n",
       "      <td>1</td>\n",
       "      <td>1</td>\n",
       "      <td>0</td>\n",
       "      <td>1</td>\n",
       "      <td>0</td>\n",
       "      <td>0</td>\n",
       "      <td>0</td>\n",
       "      <td>1</td>\n",
       "      <td>0</td>\n",
       "      <td>1</td>\n",
       "      <td>0</td>\n",
       "      <td>0</td>\n",
       "      <td>0</td>\n",
       "      <td>1</td>\n",
       "    </tr>\n",
       "  </tbody>\n",
       "</table>\n",
       "</div>"
      ],
      "text/plain": [
       "   Gender_Female  Gender_Male  Married_No  Married_Yes  Dependents_0  \\\n",
       "0              0            1           1            0             1   \n",
       "1              0            1           0            1             0   \n",
       "2              0            1           0            1             1   \n",
       "3              0            1           0            1             1   \n",
       "4              0            1           1            0             1   \n",
       "\n",
       "   Dependents_1  Dependents_2  Dependents_3+  Education_Graduate  \\\n",
       "0             0             0              0                   1   \n",
       "1             1             0              0                   1   \n",
       "2             0             0              0                   1   \n",
       "3             0             0              0                   0   \n",
       "4             0             0              0                   1   \n",
       "\n",
       "   Education_Not Graduate  Self_Employed_No  Self_Employed_Yes  \\\n",
       "0                       0                 1                  0   \n",
       "1                       0                 1                  0   \n",
       "2                       0                 0                  1   \n",
       "3                       1                 1                  0   \n",
       "4                       0                 1                  0   \n",
       "\n",
       "   Property_Area_Rural  Property_Area_Semiurban  Property_Area_Urban  \n",
       "0                    0                        0                    1  \n",
       "1                    1                        0                    0  \n",
       "2                    0                        0                    1  \n",
       "3                    0                        0                    1  \n",
       "4                    0                        0                    1  "
      ]
     },
     "execution_count": 20,
     "metadata": {},
     "output_type": "execute_result"
    }
   ],
   "source": [
    "imputed_categorical = pd.get_dummies(data=Categorical_Columns) #Using get_dummies to clean up categorical data\n",
    "imputed_categorical.head()"
   ]
  },
  {
   "cell_type": "code",
   "execution_count": 21,
   "id": "attended-sally",
   "metadata": {
    "execution": {
     "iopub.execute_input": "2021-05-20T00:15:57.557842Z",
     "iopub.status.busy": "2021-05-20T00:15:57.556809Z",
     "iopub.status.idle": "2021-05-20T00:15:57.560872Z",
     "shell.execute_reply": "2021-05-20T00:15:57.561393Z",
     "shell.execute_reply.started": "2021-05-20T00:01:31.129156Z"
    },
    "papermill": {
     "duration": 0.097373,
     "end_time": "2021-05-20T00:15:57.561562",
     "exception": false,
     "start_time": "2021-05-20T00:15:57.464189",
     "status": "completed"
    },
    "tags": []
   },
   "outputs": [
    {
     "data": {
      "text/html": [
       "<div>\n",
       "<style scoped>\n",
       "    .dataframe tbody tr th:only-of-type {\n",
       "        vertical-align: middle;\n",
       "    }\n",
       "\n",
       "    .dataframe tbody tr th {\n",
       "        vertical-align: top;\n",
       "    }\n",
       "\n",
       "    .dataframe thead th {\n",
       "        text-align: right;\n",
       "    }\n",
       "</style>\n",
       "<table border=\"1\" class=\"dataframe\">\n",
       "  <thead>\n",
       "    <tr style=\"text-align: right;\">\n",
       "      <th></th>\n",
       "      <th>Gender_Female</th>\n",
       "      <th>Gender_Male</th>\n",
       "      <th>Married_No</th>\n",
       "      <th>Married_Yes</th>\n",
       "      <th>Dependents_0</th>\n",
       "      <th>Dependents_1</th>\n",
       "      <th>Dependents_2</th>\n",
       "      <th>Dependents_3+</th>\n",
       "      <th>Education_Graduate</th>\n",
       "      <th>Education_Not Graduate</th>\n",
       "      <th>Self_Employed_No</th>\n",
       "      <th>Self_Employed_Yes</th>\n",
       "      <th>Property_Area_Rural</th>\n",
       "      <th>Property_Area_Semiurban</th>\n",
       "      <th>Property_Area_Urban</th>\n",
       "      <th>Loan_ID</th>\n",
       "    </tr>\n",
       "  </thead>\n",
       "  <tbody>\n",
       "    <tr>\n",
       "      <th>0</th>\n",
       "      <td>0</td>\n",
       "      <td>1</td>\n",
       "      <td>1</td>\n",
       "      <td>0</td>\n",
       "      <td>1</td>\n",
       "      <td>0</td>\n",
       "      <td>0</td>\n",
       "      <td>0</td>\n",
       "      <td>1</td>\n",
       "      <td>0</td>\n",
       "      <td>1</td>\n",
       "      <td>0</td>\n",
       "      <td>0</td>\n",
       "      <td>0</td>\n",
       "      <td>1</td>\n",
       "      <td>LP001002</td>\n",
       "    </tr>\n",
       "    <tr>\n",
       "      <th>1</th>\n",
       "      <td>0</td>\n",
       "      <td>1</td>\n",
       "      <td>0</td>\n",
       "      <td>1</td>\n",
       "      <td>0</td>\n",
       "      <td>1</td>\n",
       "      <td>0</td>\n",
       "      <td>0</td>\n",
       "      <td>1</td>\n",
       "      <td>0</td>\n",
       "      <td>1</td>\n",
       "      <td>0</td>\n",
       "      <td>1</td>\n",
       "      <td>0</td>\n",
       "      <td>0</td>\n",
       "      <td>LP001003</td>\n",
       "    </tr>\n",
       "    <tr>\n",
       "      <th>2</th>\n",
       "      <td>0</td>\n",
       "      <td>1</td>\n",
       "      <td>0</td>\n",
       "      <td>1</td>\n",
       "      <td>1</td>\n",
       "      <td>0</td>\n",
       "      <td>0</td>\n",
       "      <td>0</td>\n",
       "      <td>1</td>\n",
       "      <td>0</td>\n",
       "      <td>0</td>\n",
       "      <td>1</td>\n",
       "      <td>0</td>\n",
       "      <td>0</td>\n",
       "      <td>1</td>\n",
       "      <td>LP001005</td>\n",
       "    </tr>\n",
       "    <tr>\n",
       "      <th>3</th>\n",
       "      <td>0</td>\n",
       "      <td>1</td>\n",
       "      <td>0</td>\n",
       "      <td>1</td>\n",
       "      <td>1</td>\n",
       "      <td>0</td>\n",
       "      <td>0</td>\n",
       "      <td>0</td>\n",
       "      <td>0</td>\n",
       "      <td>1</td>\n",
       "      <td>1</td>\n",
       "      <td>0</td>\n",
       "      <td>0</td>\n",
       "      <td>0</td>\n",
       "      <td>1</td>\n",
       "      <td>LP001006</td>\n",
       "    </tr>\n",
       "    <tr>\n",
       "      <th>4</th>\n",
       "      <td>0</td>\n",
       "      <td>1</td>\n",
       "      <td>1</td>\n",
       "      <td>0</td>\n",
       "      <td>1</td>\n",
       "      <td>0</td>\n",
       "      <td>0</td>\n",
       "      <td>0</td>\n",
       "      <td>1</td>\n",
       "      <td>0</td>\n",
       "      <td>1</td>\n",
       "      <td>0</td>\n",
       "      <td>0</td>\n",
       "      <td>0</td>\n",
       "      <td>1</td>\n",
       "      <td>LP001008</td>\n",
       "    </tr>\n",
       "  </tbody>\n",
       "</table>\n",
       "</div>"
      ],
      "text/plain": [
       "   Gender_Female  Gender_Male  Married_No  Married_Yes  Dependents_0  \\\n",
       "0              0            1           1            0             1   \n",
       "1              0            1           0            1             0   \n",
       "2              0            1           0            1             1   \n",
       "3              0            1           0            1             1   \n",
       "4              0            1           1            0             1   \n",
       "\n",
       "   Dependents_1  Dependents_2  Dependents_3+  Education_Graduate  \\\n",
       "0             0             0              0                   1   \n",
       "1             1             0              0                   1   \n",
       "2             0             0              0                   1   \n",
       "3             0             0              0                   0   \n",
       "4             0             0              0                   1   \n",
       "\n",
       "   Education_Not Graduate  Self_Employed_No  Self_Employed_Yes  \\\n",
       "0                       0                 1                  0   \n",
       "1                       0                 1                  0   \n",
       "2                       0                 0                  1   \n",
       "3                       1                 1                  0   \n",
       "4                       0                 1                  0   \n",
       "\n",
       "   Property_Area_Rural  Property_Area_Semiurban  Property_Area_Urban   Loan_ID  \n",
       "0                    0                        0                    1  LP001002  \n",
       "1                    1                        0                    0  LP001003  \n",
       "2                    0                        0                    1  LP001005  \n",
       "3                    0                        0                    1  LP001006  \n",
       "4                    0                        0                    1  LP001008  "
      ]
     },
     "execution_count": 21,
     "metadata": {},
     "output_type": "execute_result"
    }
   ],
   "source": [
    "imputed_categorical = imputed_categorical.join(identification)\n",
    "imputed_categorical.head()"
   ]
  },
  {
   "cell_type": "markdown",
   "id": "indoor-technology",
   "metadata": {
    "papermill": {
     "duration": 0.0779,
     "end_time": "2021-05-20T00:15:57.717540",
     "exception": false,
     "start_time": "2021-05-20T00:15:57.639640",
     "status": "completed"
    },
    "tags": []
   },
   "source": [
    "#### Merging Numerical Dataset and Categorical Dataset Together"
   ]
  },
  {
   "cell_type": "code",
   "execution_count": 22,
   "id": "crucial-interaction",
   "metadata": {
    "execution": {
     "iopub.execute_input": "2021-05-20T00:15:57.882494Z",
     "iopub.status.busy": "2021-05-20T00:15:57.881473Z",
     "iopub.status.idle": "2021-05-20T00:15:57.909624Z",
     "shell.execute_reply": "2021-05-20T00:15:57.909091Z",
     "shell.execute_reply.started": "2021-05-20T00:01:31.147487Z"
    },
    "papermill": {
     "duration": 0.113007,
     "end_time": "2021-05-20T00:15:57.909758",
     "exception": false,
     "start_time": "2021-05-20T00:15:57.796751",
     "status": "completed"
    },
    "tags": []
   },
   "outputs": [
    {
     "data": {
      "text/html": [
       "<div>\n",
       "<style scoped>\n",
       "    .dataframe tbody tr th:only-of-type {\n",
       "        vertical-align: middle;\n",
       "    }\n",
       "\n",
       "    .dataframe tbody tr th {\n",
       "        vertical-align: top;\n",
       "    }\n",
       "\n",
       "    .dataframe thead th {\n",
       "        text-align: right;\n",
       "    }\n",
       "</style>\n",
       "<table border=\"1\" class=\"dataframe\">\n",
       "  <thead>\n",
       "    <tr style=\"text-align: right;\">\n",
       "      <th></th>\n",
       "      <th>ApplicantIncome</th>\n",
       "      <th>CoapplicantIncome</th>\n",
       "      <th>LoanAmount</th>\n",
       "      <th>Loan_Amount_Term</th>\n",
       "      <th>Credit_History</th>\n",
       "      <th>Gender_Female</th>\n",
       "      <th>Gender_Male</th>\n",
       "      <th>Married_No</th>\n",
       "      <th>Married_Yes</th>\n",
       "      <th>Dependents_0</th>\n",
       "      <th>Dependents_1</th>\n",
       "      <th>Dependents_2</th>\n",
       "      <th>Dependents_3+</th>\n",
       "      <th>Education_Graduate</th>\n",
       "      <th>Education_Not Graduate</th>\n",
       "      <th>Self_Employed_No</th>\n",
       "      <th>Self_Employed_Yes</th>\n",
       "      <th>Property_Area_Rural</th>\n",
       "      <th>Property_Area_Semiurban</th>\n",
       "      <th>Property_Area_Urban</th>\n",
       "    </tr>\n",
       "  </thead>\n",
       "  <tbody>\n",
       "    <tr>\n",
       "      <th>0</th>\n",
       "      <td>5849.0</td>\n",
       "      <td>0.0</td>\n",
       "      <td>142.51153</td>\n",
       "      <td>360.0</td>\n",
       "      <td>1.0</td>\n",
       "      <td>0</td>\n",
       "      <td>1</td>\n",
       "      <td>1</td>\n",
       "      <td>0</td>\n",
       "      <td>1</td>\n",
       "      <td>0</td>\n",
       "      <td>0</td>\n",
       "      <td>0</td>\n",
       "      <td>1</td>\n",
       "      <td>0</td>\n",
       "      <td>1</td>\n",
       "      <td>0</td>\n",
       "      <td>0</td>\n",
       "      <td>0</td>\n",
       "      <td>1</td>\n",
       "    </tr>\n",
       "    <tr>\n",
       "      <th>1</th>\n",
       "      <td>4583.0</td>\n",
       "      <td>1508.0</td>\n",
       "      <td>128.00000</td>\n",
       "      <td>360.0</td>\n",
       "      <td>1.0</td>\n",
       "      <td>0</td>\n",
       "      <td>1</td>\n",
       "      <td>0</td>\n",
       "      <td>1</td>\n",
       "      <td>0</td>\n",
       "      <td>1</td>\n",
       "      <td>0</td>\n",
       "      <td>0</td>\n",
       "      <td>1</td>\n",
       "      <td>0</td>\n",
       "      <td>1</td>\n",
       "      <td>0</td>\n",
       "      <td>1</td>\n",
       "      <td>0</td>\n",
       "      <td>0</td>\n",
       "    </tr>\n",
       "    <tr>\n",
       "      <th>2</th>\n",
       "      <td>3000.0</td>\n",
       "      <td>0.0</td>\n",
       "      <td>66.00000</td>\n",
       "      <td>360.0</td>\n",
       "      <td>1.0</td>\n",
       "      <td>0</td>\n",
       "      <td>1</td>\n",
       "      <td>0</td>\n",
       "      <td>1</td>\n",
       "      <td>1</td>\n",
       "      <td>0</td>\n",
       "      <td>0</td>\n",
       "      <td>0</td>\n",
       "      <td>1</td>\n",
       "      <td>0</td>\n",
       "      <td>0</td>\n",
       "      <td>1</td>\n",
       "      <td>0</td>\n",
       "      <td>0</td>\n",
       "      <td>1</td>\n",
       "    </tr>\n",
       "    <tr>\n",
       "      <th>3</th>\n",
       "      <td>2583.0</td>\n",
       "      <td>2358.0</td>\n",
       "      <td>120.00000</td>\n",
       "      <td>360.0</td>\n",
       "      <td>1.0</td>\n",
       "      <td>0</td>\n",
       "      <td>1</td>\n",
       "      <td>0</td>\n",
       "      <td>1</td>\n",
       "      <td>1</td>\n",
       "      <td>0</td>\n",
       "      <td>0</td>\n",
       "      <td>0</td>\n",
       "      <td>0</td>\n",
       "      <td>1</td>\n",
       "      <td>1</td>\n",
       "      <td>0</td>\n",
       "      <td>0</td>\n",
       "      <td>0</td>\n",
       "      <td>1</td>\n",
       "    </tr>\n",
       "    <tr>\n",
       "      <th>4</th>\n",
       "      <td>6000.0</td>\n",
       "      <td>0.0</td>\n",
       "      <td>141.00000</td>\n",
       "      <td>360.0</td>\n",
       "      <td>1.0</td>\n",
       "      <td>0</td>\n",
       "      <td>1</td>\n",
       "      <td>1</td>\n",
       "      <td>0</td>\n",
       "      <td>1</td>\n",
       "      <td>0</td>\n",
       "      <td>0</td>\n",
       "      <td>0</td>\n",
       "      <td>1</td>\n",
       "      <td>0</td>\n",
       "      <td>1</td>\n",
       "      <td>0</td>\n",
       "      <td>0</td>\n",
       "      <td>0</td>\n",
       "      <td>1</td>\n",
       "    </tr>\n",
       "  </tbody>\n",
       "</table>\n",
       "</div>"
      ],
      "text/plain": [
       "   ApplicantIncome  CoapplicantIncome  LoanAmount  Loan_Amount_Term  \\\n",
       "0           5849.0                0.0   142.51153             360.0   \n",
       "1           4583.0             1508.0   128.00000             360.0   \n",
       "2           3000.0                0.0    66.00000             360.0   \n",
       "3           2583.0             2358.0   120.00000             360.0   \n",
       "4           6000.0                0.0   141.00000             360.0   \n",
       "\n",
       "   Credit_History  Gender_Female  Gender_Male  Married_No  Married_Yes  \\\n",
       "0             1.0              0            1           1            0   \n",
       "1             1.0              0            1           0            1   \n",
       "2             1.0              0            1           0            1   \n",
       "3             1.0              0            1           0            1   \n",
       "4             1.0              0            1           1            0   \n",
       "\n",
       "   Dependents_0  Dependents_1  Dependents_2  Dependents_3+  \\\n",
       "0             1             0             0              0   \n",
       "1             0             1             0              0   \n",
       "2             1             0             0              0   \n",
       "3             1             0             0              0   \n",
       "4             1             0             0              0   \n",
       "\n",
       "   Education_Graduate  Education_Not Graduate  Self_Employed_No  \\\n",
       "0                   1                       0                 1   \n",
       "1                   1                       0                 1   \n",
       "2                   1                       0                 0   \n",
       "3                   0                       1                 1   \n",
       "4                   1                       0                 1   \n",
       "\n",
       "   Self_Employed_Yes  Property_Area_Rural  Property_Area_Semiurban  \\\n",
       "0                  0                    0                        0   \n",
       "1                  0                    1                        0   \n",
       "2                  1                    0                        0   \n",
       "3                  0                    0                        0   \n",
       "4                  0                    0                        0   \n",
       "\n",
       "   Property_Area_Urban  \n",
       "0                    1  \n",
       "1                    0  \n",
       "2                    1  \n",
       "3                    1  \n",
       "4                    1  "
      ]
     },
     "execution_count": 22,
     "metadata": {},
     "output_type": "execute_result"
    }
   ],
   "source": [
    "merged_data = imputed_num.merge(imputed_categorical, on='Loan_ID') #Using similar id columns to merge data\n",
    "merged_data.drop(['Loan_ID'], axis=1, inplace=True) #Need to drop Loan_ID now that we have successfully merged our data together\n",
    "merged_data.head()"
   ]
  },
  {
   "cell_type": "code",
   "execution_count": 23,
   "id": "enhanced-production",
   "metadata": {
    "execution": {
     "iopub.execute_input": "2021-05-20T00:15:58.073567Z",
     "iopub.status.busy": "2021-05-20T00:15:58.072884Z",
     "iopub.status.idle": "2021-05-20T00:15:58.084007Z",
     "shell.execute_reply": "2021-05-20T00:15:58.083499Z",
     "shell.execute_reply.started": "2021-05-20T00:01:31.181633Z"
    },
    "papermill": {
     "duration": 0.095483,
     "end_time": "2021-05-20T00:15:58.084149",
     "exception": false,
     "start_time": "2021-05-20T00:15:57.988666",
     "status": "completed"
    },
    "tags": []
   },
   "outputs": [
    {
     "data": {
      "text/html": [
       "<div>\n",
       "<style scoped>\n",
       "    .dataframe tbody tr th:only-of-type {\n",
       "        vertical-align: middle;\n",
       "    }\n",
       "\n",
       "    .dataframe tbody tr th {\n",
       "        vertical-align: top;\n",
       "    }\n",
       "\n",
       "    .dataframe thead th {\n",
       "        text-align: right;\n",
       "    }\n",
       "</style>\n",
       "<table border=\"1\" class=\"dataframe\">\n",
       "  <thead>\n",
       "    <tr style=\"text-align: right;\">\n",
       "      <th></th>\n",
       "      <th>Missing Ratio</th>\n",
       "    </tr>\n",
       "  </thead>\n",
       "  <tbody>\n",
       "  </tbody>\n",
       "</table>\n",
       "</div>"
      ],
      "text/plain": [
       "Empty DataFrame\n",
       "Columns: [Missing Ratio]\n",
       "Index: []"
      ]
     },
     "execution_count": 23,
     "metadata": {},
     "output_type": "execute_result"
    }
   ],
   "source": [
    "all_data_nan = (merged_data.isnull().sum() / len(merged_data)) * 100\n",
    "all_data_nan = all_data_nan.drop(all_data_nan[all_data_nan == 0].index).sort_values(ascending=False)[:30]\n",
    "missing_data = pd.DataFrame({'Missing Ratio' :all_data_nan})\n",
    "missing_data.head(10)"
   ]
  },
  {
   "cell_type": "markdown",
   "id": "faced-petite",
   "metadata": {
    "papermill": {
     "duration": 0.078444,
     "end_time": "2021-05-20T00:15:58.241746",
     "exception": false,
     "start_time": "2021-05-20T00:15:58.163302",
     "status": "completed"
    },
    "tags": []
   },
   "source": [
    "As can be seen above we no longer have any missing values. We are going to go ahead and split our data back up into our train and test datasets and then do the same process and make a separate dataset that contains our logarithmic columns."
   ]
  },
  {
   "cell_type": "code",
   "execution_count": 24,
   "id": "thorough-horizon",
   "metadata": {
    "execution": {
     "iopub.execute_input": "2021-05-20T00:15:58.407051Z",
     "iopub.status.busy": "2021-05-20T00:15:58.406394Z",
     "iopub.status.idle": "2021-05-20T00:15:58.419362Z",
     "shell.execute_reply": "2021-05-20T00:15:58.418636Z",
     "shell.execute_reply.started": "2021-05-20T00:01:31.195927Z"
    },
    "papermill": {
     "duration": 0.097347,
     "end_time": "2021-05-20T00:15:58.419551",
     "exception": false,
     "start_time": "2021-05-20T00:15:58.322204",
     "status": "completed"
    },
    "tags": []
   },
   "outputs": [
    {
     "name": "stdout",
     "output_type": "stream",
     "text": [
      "<class 'pandas.core.frame.DataFrame'>\n",
      "Int64Index: 614 entries, 0 to 613\n",
      "Data columns (total 20 columns):\n",
      " #   Column                   Non-Null Count  Dtype  \n",
      "---  ------                   --------------  -----  \n",
      " 0   ApplicantIncome          614 non-null    float64\n",
      " 1   CoapplicantIncome        614 non-null    float64\n",
      " 2   LoanAmount               614 non-null    float64\n",
      " 3   Loan_Amount_Term         614 non-null    float64\n",
      " 4   Credit_History           614 non-null    float64\n",
      " 5   Gender_Female            614 non-null    uint8  \n",
      " 6   Gender_Male              614 non-null    uint8  \n",
      " 7   Married_No               614 non-null    uint8  \n",
      " 8   Married_Yes              614 non-null    uint8  \n",
      " 9   Dependents_0             614 non-null    uint8  \n",
      " 10  Dependents_1             614 non-null    uint8  \n",
      " 11  Dependents_2             614 non-null    uint8  \n",
      " 12  Dependents_3+            614 non-null    uint8  \n",
      " 13  Education_Graduate       614 non-null    uint8  \n",
      " 14  Education_Not Graduate   614 non-null    uint8  \n",
      " 15  Self_Employed_No         614 non-null    uint8  \n",
      " 16  Self_Employed_Yes        614 non-null    uint8  \n",
      " 17  Property_Area_Rural      614 non-null    uint8  \n",
      " 18  Property_Area_Semiurban  614 non-null    uint8  \n",
      " 19  Property_Area_Urban      614 non-null    uint8  \n",
      "dtypes: float64(5), uint8(15)\n",
      "memory usage: 37.8 KB\n"
     ]
    }
   ],
   "source": [
    "X_tra = merged_data[:ntrain]\n",
    "X_test = merged_data[ntrain:]\n",
    "X_tra.info()"
   ]
  },
  {
   "cell_type": "markdown",
   "id": "distinct-farming",
   "metadata": {
    "papermill": {
     "duration": 0.079062,
     "end_time": "2021-05-20T00:15:58.578741",
     "exception": false,
     "start_time": "2021-05-20T00:15:58.499679",
     "status": "completed"
    },
    "tags": []
   },
   "source": [
    "## Logarithmic Cleaning"
   ]
  },
  {
   "cell_type": "code",
   "execution_count": 25,
   "id": "expired-strengthening",
   "metadata": {
    "execution": {
     "iopub.execute_input": "2021-05-20T00:15:58.757370Z",
     "iopub.status.busy": "2021-05-20T00:15:58.756445Z",
     "iopub.status.idle": "2021-05-20T00:15:58.760987Z",
     "shell.execute_reply": "2021-05-20T00:15:58.760361Z",
     "shell.execute_reply.started": "2021-05-20T00:01:31.213635Z"
    },
    "papermill": {
     "duration": 0.102584,
     "end_time": "2021-05-20T00:15:58.761127",
     "exception": false,
     "start_time": "2021-05-20T00:15:58.658543",
     "status": "completed"
    },
    "tags": []
   },
   "outputs": [
    {
     "data": {
      "text/html": [
       "<div>\n",
       "<style scoped>\n",
       "    .dataframe tbody tr th:only-of-type {\n",
       "        vertical-align: middle;\n",
       "    }\n",
       "\n",
       "    .dataframe tbody tr th {\n",
       "        vertical-align: top;\n",
       "    }\n",
       "\n",
       "    .dataframe thead th {\n",
       "        text-align: right;\n",
       "    }\n",
       "</style>\n",
       "<table border=\"1\" class=\"dataframe\">\n",
       "  <thead>\n",
       "    <tr style=\"text-align: right;\">\n",
       "      <th></th>\n",
       "      <th>Loan_ID</th>\n",
       "      <th>Gender</th>\n",
       "      <th>Married</th>\n",
       "      <th>Dependents</th>\n",
       "      <th>Education</th>\n",
       "      <th>Self_Employed</th>\n",
       "      <th>ApplicantIncome</th>\n",
       "      <th>CoapplicantIncome</th>\n",
       "      <th>LoanAmount</th>\n",
       "      <th>Loan_Amount_Term</th>\n",
       "      <th>Credit_History</th>\n",
       "      <th>Property_Area</th>\n",
       "      <th>Loan_Status</th>\n",
       "    </tr>\n",
       "  </thead>\n",
       "  <tbody>\n",
       "    <tr>\n",
       "      <th>0</th>\n",
       "      <td>LP001002</td>\n",
       "      <td>Male</td>\n",
       "      <td>No</td>\n",
       "      <td>0</td>\n",
       "      <td>Graduate</td>\n",
       "      <td>No</td>\n",
       "      <td>5849</td>\n",
       "      <td>0.0</td>\n",
       "      <td>NaN</td>\n",
       "      <td>360.0</td>\n",
       "      <td>1.0</td>\n",
       "      <td>Urban</td>\n",
       "      <td>Y</td>\n",
       "    </tr>\n",
       "    <tr>\n",
       "      <th>1</th>\n",
       "      <td>LP001003</td>\n",
       "      <td>Male</td>\n",
       "      <td>Yes</td>\n",
       "      <td>1</td>\n",
       "      <td>Graduate</td>\n",
       "      <td>No</td>\n",
       "      <td>4583</td>\n",
       "      <td>1508.0</td>\n",
       "      <td>128.0</td>\n",
       "      <td>360.0</td>\n",
       "      <td>1.0</td>\n",
       "      <td>Rural</td>\n",
       "      <td>N</td>\n",
       "    </tr>\n",
       "    <tr>\n",
       "      <th>2</th>\n",
       "      <td>LP001005</td>\n",
       "      <td>Male</td>\n",
       "      <td>Yes</td>\n",
       "      <td>0</td>\n",
       "      <td>Graduate</td>\n",
       "      <td>Yes</td>\n",
       "      <td>3000</td>\n",
       "      <td>0.0</td>\n",
       "      <td>66.0</td>\n",
       "      <td>360.0</td>\n",
       "      <td>1.0</td>\n",
       "      <td>Urban</td>\n",
       "      <td>Y</td>\n",
       "    </tr>\n",
       "    <tr>\n",
       "      <th>3</th>\n",
       "      <td>LP001006</td>\n",
       "      <td>Male</td>\n",
       "      <td>Yes</td>\n",
       "      <td>0</td>\n",
       "      <td>Not Graduate</td>\n",
       "      <td>No</td>\n",
       "      <td>2583</td>\n",
       "      <td>2358.0</td>\n",
       "      <td>120.0</td>\n",
       "      <td>360.0</td>\n",
       "      <td>1.0</td>\n",
       "      <td>Urban</td>\n",
       "      <td>Y</td>\n",
       "    </tr>\n",
       "    <tr>\n",
       "      <th>4</th>\n",
       "      <td>LP001008</td>\n",
       "      <td>Male</td>\n",
       "      <td>No</td>\n",
       "      <td>0</td>\n",
       "      <td>Graduate</td>\n",
       "      <td>No</td>\n",
       "      <td>6000</td>\n",
       "      <td>0.0</td>\n",
       "      <td>141.0</td>\n",
       "      <td>360.0</td>\n",
       "      <td>1.0</td>\n",
       "      <td>Urban</td>\n",
       "      <td>Y</td>\n",
       "    </tr>\n",
       "  </tbody>\n",
       "</table>\n",
       "</div>"
      ],
      "text/plain": [
       "    Loan_ID Gender Married Dependents     Education Self_Employed  \\\n",
       "0  LP001002   Male      No          0      Graduate            No   \n",
       "1  LP001003   Male     Yes          1      Graduate            No   \n",
       "2  LP001005   Male     Yes          0      Graduate           Yes   \n",
       "3  LP001006   Male     Yes          0  Not Graduate            No   \n",
       "4  LP001008   Male      No          0      Graduate            No   \n",
       "\n",
       "   ApplicantIncome  CoapplicantIncome  LoanAmount  Loan_Amount_Term  \\\n",
       "0             5849                0.0         NaN             360.0   \n",
       "1             4583             1508.0       128.0             360.0   \n",
       "2             3000                0.0        66.0             360.0   \n",
       "3             2583             2358.0       120.0             360.0   \n",
       "4             6000                0.0       141.0             360.0   \n",
       "\n",
       "   Credit_History Property_Area Loan_Status  \n",
       "0             1.0         Urban           Y  \n",
       "1             1.0         Rural           N  \n",
       "2             1.0         Urban           Y  \n",
       "3             1.0         Urban           Y  \n",
       "4             1.0         Urban           Y  "
      ]
     },
     "execution_count": 25,
     "metadata": {},
     "output_type": "execute_result"
    }
   ],
   "source": [
    "log_train = train_original\n",
    "log_test = test_original\n",
    "log_train.head()"
   ]
  },
  {
   "cell_type": "markdown",
   "id": "afraid-pharmacology",
   "metadata": {
    "papermill": {
     "duration": 0.079943,
     "end_time": "2021-05-20T00:15:58.922410",
     "exception": false,
     "start_time": "2021-05-20T00:15:58.842467",
     "status": "completed"
    },
    "tags": []
   },
   "source": [
    "The columns that we are replacing with logarithm values are:\n",
    "* ApplicantIncome\n",
    "* CoapplicantIncome\n",
    "* LoanAmount\n",
    "\n",
    "First we will start again by merging the log_train and log_test and then perform the transformations."
   ]
  },
  {
   "cell_type": "code",
   "execution_count": 26,
   "id": "difficult-reading",
   "metadata": {
    "execution": {
     "iopub.execute_input": "2021-05-20T00:15:59.094566Z",
     "iopub.status.busy": "2021-05-20T00:15:59.092739Z",
     "iopub.status.idle": "2021-05-20T00:15:59.105073Z",
     "shell.execute_reply": "2021-05-20T00:15:59.104498Z",
     "shell.execute_reply.started": "2021-05-20T00:01:31.245281Z"
    },
    "papermill": {
     "duration": 0.101685,
     "end_time": "2021-05-20T00:15:59.105238",
     "exception": false,
     "start_time": "2021-05-20T00:15:59.003553",
     "status": "completed"
    },
    "tags": []
   },
   "outputs": [],
   "source": [
    "log_train.drop(log_train.loc[log_train['ApplicantIncome']==0].index, inplace=True)\n",
    "log_train.drop(log_train.loc[log_train['CoapplicantIncome']==0].index, inplace=True)\n",
    "log_train.drop(log_train.loc[log_train['LoanAmount']==0].index, inplace=True)\n",
    "\n",
    "log_test.drop(log_test.loc[log_test['ApplicantIncome']==0].index, inplace=True)\n",
    "log_test.drop(log_test.loc[log_test['CoapplicantIncome']==0].index, inplace=True)\n",
    "log_test.drop(log_test.loc[log_test['LoanAmount']==0].index, inplace=True)"
   ]
  },
  {
   "cell_type": "code",
   "execution_count": 27,
   "id": "lesser-message",
   "metadata": {
    "execution": {
     "iopub.execute_input": "2021-05-20T00:15:59.270565Z",
     "iopub.status.busy": "2021-05-20T00:15:59.269925Z",
     "iopub.status.idle": "2021-05-20T00:15:59.281517Z",
     "shell.execute_reply": "2021-05-20T00:15:59.280633Z",
     "shell.execute_reply.started": "2021-05-20T00:01:31.263628Z"
    },
    "papermill": {
     "duration": 0.095156,
     "end_time": "2021-05-20T00:15:59.281702",
     "exception": false,
     "start_time": "2021-05-20T00:15:59.186546",
     "status": "completed"
    },
    "tags": []
   },
   "outputs": [
    {
     "name": "stdout",
     "output_type": "stream",
     "text": [
      "all_data size is : (550, 12)\n"
     ]
    }
   ],
   "source": [
    "nlogtrain = log_train.shape[0]\n",
    "nlogtest = log_test.shape[0]\n",
    "y_log = log_train.Loan_Status.values\n",
    "all_data_log = pd.concat((log_train, log_test)).reset_index(drop=True)\n",
    "all_data_log.drop(['Loan_Status'], axis=1, inplace=True)\n",
    "print(\"all_data size is : {}\".format(all_data_log.shape))"
   ]
  },
  {
   "cell_type": "markdown",
   "id": "arranged-armor",
   "metadata": {
    "papermill": {
     "duration": 0.088086,
     "end_time": "2021-05-20T00:15:59.471626",
     "exception": false,
     "start_time": "2021-05-20T00:15:59.383540",
     "status": "completed"
    },
    "tags": []
   },
   "source": [
    "The log transformation will not be insightful if we have values equal to zero, so if that is the case we will need to drop them."
   ]
  },
  {
   "cell_type": "code",
   "execution_count": 28,
   "id": "shaped-wings",
   "metadata": {
    "execution": {
     "iopub.execute_input": "2021-05-20T00:15:59.658916Z",
     "iopub.status.busy": "2021-05-20T00:15:59.658052Z",
     "iopub.status.idle": "2021-05-20T00:15:59.662621Z",
     "shell.execute_reply": "2021-05-20T00:15:59.662126Z",
     "shell.execute_reply.started": "2021-05-20T00:01:31.275400Z"
    },
    "papermill": {
     "duration": 0.109993,
     "end_time": "2021-05-20T00:15:59.662759",
     "exception": false,
     "start_time": "2021-05-20T00:15:59.552766",
     "status": "completed"
    },
    "tags": []
   },
   "outputs": [
    {
     "data": {
      "text/html": [
       "<div>\n",
       "<style scoped>\n",
       "    .dataframe tbody tr th:only-of-type {\n",
       "        vertical-align: middle;\n",
       "    }\n",
       "\n",
       "    .dataframe tbody tr th {\n",
       "        vertical-align: top;\n",
       "    }\n",
       "\n",
       "    .dataframe thead th {\n",
       "        text-align: right;\n",
       "    }\n",
       "</style>\n",
       "<table border=\"1\" class=\"dataframe\">\n",
       "  <thead>\n",
       "    <tr style=\"text-align: right;\">\n",
       "      <th></th>\n",
       "      <th>Loan_ID</th>\n",
       "      <th>Gender</th>\n",
       "      <th>Married</th>\n",
       "      <th>Dependents</th>\n",
       "      <th>Education</th>\n",
       "      <th>Self_Employed</th>\n",
       "      <th>ApplicantIncome</th>\n",
       "      <th>CoapplicantIncome</th>\n",
       "      <th>LoanAmount</th>\n",
       "      <th>Loan_Amount_Term</th>\n",
       "      <th>Credit_History</th>\n",
       "      <th>Property_Area</th>\n",
       "      <th>ApplicantIncome_log</th>\n",
       "      <th>CoapplicantIncome_log</th>\n",
       "      <th>LoanAmount_log</th>\n",
       "    </tr>\n",
       "  </thead>\n",
       "  <tbody>\n",
       "    <tr>\n",
       "      <th>0</th>\n",
       "      <td>LP001003</td>\n",
       "      <td>Male</td>\n",
       "      <td>Yes</td>\n",
       "      <td>1</td>\n",
       "      <td>Graduate</td>\n",
       "      <td>No</td>\n",
       "      <td>4583</td>\n",
       "      <td>1508.0</td>\n",
       "      <td>128.0</td>\n",
       "      <td>360.0</td>\n",
       "      <td>1.0</td>\n",
       "      <td>Rural</td>\n",
       "      <td>8.430109</td>\n",
       "      <td>7.318540</td>\n",
       "      <td>4.852030</td>\n",
       "    </tr>\n",
       "    <tr>\n",
       "      <th>1</th>\n",
       "      <td>LP001006</td>\n",
       "      <td>Male</td>\n",
       "      <td>Yes</td>\n",
       "      <td>0</td>\n",
       "      <td>Not Graduate</td>\n",
       "      <td>No</td>\n",
       "      <td>2583</td>\n",
       "      <td>2358.0</td>\n",
       "      <td>120.0</td>\n",
       "      <td>360.0</td>\n",
       "      <td>1.0</td>\n",
       "      <td>Urban</td>\n",
       "      <td>7.856707</td>\n",
       "      <td>7.765569</td>\n",
       "      <td>4.787492</td>\n",
       "    </tr>\n",
       "    <tr>\n",
       "      <th>2</th>\n",
       "      <td>LP001011</td>\n",
       "      <td>Male</td>\n",
       "      <td>Yes</td>\n",
       "      <td>2</td>\n",
       "      <td>Graduate</td>\n",
       "      <td>Yes</td>\n",
       "      <td>5417</td>\n",
       "      <td>4196.0</td>\n",
       "      <td>267.0</td>\n",
       "      <td>360.0</td>\n",
       "      <td>1.0</td>\n",
       "      <td>Urban</td>\n",
       "      <td>8.597297</td>\n",
       "      <td>8.341887</td>\n",
       "      <td>5.587249</td>\n",
       "    </tr>\n",
       "    <tr>\n",
       "      <th>3</th>\n",
       "      <td>LP001013</td>\n",
       "      <td>Male</td>\n",
       "      <td>Yes</td>\n",
       "      <td>0</td>\n",
       "      <td>Not Graduate</td>\n",
       "      <td>No</td>\n",
       "      <td>2333</td>\n",
       "      <td>1516.0</td>\n",
       "      <td>95.0</td>\n",
       "      <td>360.0</td>\n",
       "      <td>1.0</td>\n",
       "      <td>Urban</td>\n",
       "      <td>7.754910</td>\n",
       "      <td>7.323831</td>\n",
       "      <td>4.553877</td>\n",
       "    </tr>\n",
       "    <tr>\n",
       "      <th>4</th>\n",
       "      <td>LP001014</td>\n",
       "      <td>Male</td>\n",
       "      <td>Yes</td>\n",
       "      <td>3+</td>\n",
       "      <td>Graduate</td>\n",
       "      <td>No</td>\n",
       "      <td>3036</td>\n",
       "      <td>2504.0</td>\n",
       "      <td>158.0</td>\n",
       "      <td>360.0</td>\n",
       "      <td>0.0</td>\n",
       "      <td>Semiurban</td>\n",
       "      <td>8.018296</td>\n",
       "      <td>7.825645</td>\n",
       "      <td>5.062595</td>\n",
       "    </tr>\n",
       "  </tbody>\n",
       "</table>\n",
       "</div>"
      ],
      "text/plain": [
       "    Loan_ID Gender Married Dependents     Education Self_Employed  \\\n",
       "0  LP001003   Male     Yes          1      Graduate            No   \n",
       "1  LP001006   Male     Yes          0  Not Graduate            No   \n",
       "2  LP001011   Male     Yes          2      Graduate           Yes   \n",
       "3  LP001013   Male     Yes          0  Not Graduate            No   \n",
       "4  LP001014   Male     Yes         3+      Graduate            No   \n",
       "\n",
       "   ApplicantIncome  CoapplicantIncome  LoanAmount  Loan_Amount_Term  \\\n",
       "0             4583             1508.0       128.0             360.0   \n",
       "1             2583             2358.0       120.0             360.0   \n",
       "2             5417             4196.0       267.0             360.0   \n",
       "3             2333             1516.0        95.0             360.0   \n",
       "4             3036             2504.0       158.0             360.0   \n",
       "\n",
       "   Credit_History Property_Area  ApplicantIncome_log  CoapplicantIncome_log  \\\n",
       "0             1.0         Rural             8.430109               7.318540   \n",
       "1             1.0         Urban             7.856707               7.765569   \n",
       "2             1.0         Urban             8.597297               8.341887   \n",
       "3             1.0         Urban             7.754910               7.323831   \n",
       "4             0.0     Semiurban             8.018296               7.825645   \n",
       "\n",
       "   LoanAmount_log  \n",
       "0        4.852030  \n",
       "1        4.787492  \n",
       "2        5.587249  \n",
       "3        4.553877  \n",
       "4        5.062595  "
      ]
     },
     "execution_count": 28,
     "metadata": {},
     "output_type": "execute_result"
    }
   ],
   "source": [
    "#Perform log transformations\n",
    "all_data_log['ApplicantIncome_log'] = np.log(all_data_log['ApplicantIncome'])\n",
    "all_data_log['CoapplicantIncome_log'] = np.log(all_data_log['CoapplicantIncome'])\n",
    "all_data_log['LoanAmount_log'] = np.log(all_data_log['LoanAmount'])\n",
    "all_data_log.head()"
   ]
  },
  {
   "cell_type": "code",
   "execution_count": 29,
   "id": "cultural-mission",
   "metadata": {
    "execution": {
     "iopub.execute_input": "2021-05-20T00:15:59.842475Z",
     "iopub.status.busy": "2021-05-20T00:15:59.841603Z",
     "iopub.status.idle": "2021-05-20T00:15:59.848446Z",
     "shell.execute_reply": "2021-05-20T00:15:59.847798Z",
     "shell.execute_reply.started": "2021-05-20T00:01:31.302973Z"
    },
    "papermill": {
     "duration": 0.104464,
     "end_time": "2021-05-20T00:15:59.848590",
     "exception": false,
     "start_time": "2021-05-20T00:15:59.744126",
     "status": "completed"
    },
    "tags": []
   },
   "outputs": [
    {
     "name": "stdout",
     "output_type": "stream",
     "text": [
      "<class 'pandas.core.frame.DataFrame'>\n",
      "RangeIndex: 550 entries, 0 to 549\n",
      "Data columns (total 15 columns):\n",
      " #   Column                 Non-Null Count  Dtype  \n",
      "---  ------                 --------------  -----  \n",
      " 0   Loan_ID                550 non-null    object \n",
      " 1   Gender                 536 non-null    object \n",
      " 2   Married                549 non-null    object \n",
      " 3   Dependents             538 non-null    object \n",
      " 4   Education              550 non-null    object \n",
      " 5   Self_Employed          517 non-null    object \n",
      " 6   ApplicantIncome        550 non-null    int64  \n",
      " 7   CoapplicantIncome      550 non-null    float64\n",
      " 8   LoanAmount             538 non-null    float64\n",
      " 9   Loan_Amount_Term       535 non-null    float64\n",
      " 10  Credit_History         499 non-null    float64\n",
      " 11  Property_Area          550 non-null    object \n",
      " 12  ApplicantIncome_log    550 non-null    float64\n",
      " 13  CoapplicantIncome_log  550 non-null    float64\n",
      " 14  LoanAmount_log         538 non-null    float64\n",
      "dtypes: float64(7), int64(1), object(7)\n",
      "memory usage: 64.6+ KB\n"
     ]
    }
   ],
   "source": [
    "all_data_log.info()"
   ]
  },
  {
   "cell_type": "markdown",
   "id": "directed-reducing",
   "metadata": {
    "papermill": {
     "duration": 0.082443,
     "end_time": "2021-05-20T00:16:00.013690",
     "exception": false,
     "start_time": "2021-05-20T00:15:59.931247",
     "status": "completed"
    },
    "tags": []
   },
   "source": [
    "Now we have a lot less rows to work with, but we are able to get log transformations that will be useful. Let's verify that we have a approximately normal distribution now by taking a look at the plots."
   ]
  },
  {
   "cell_type": "code",
   "execution_count": 30,
   "id": "small-covering",
   "metadata": {
    "execution": {
     "iopub.execute_input": "2021-05-20T00:16:00.199279Z",
     "iopub.status.busy": "2021-05-20T00:16:00.198236Z",
     "iopub.status.idle": "2021-05-20T00:16:00.329083Z",
     "shell.execute_reply": "2021-05-20T00:16:00.328565Z",
     "shell.execute_reply.started": "2021-05-20T00:01:31.319539Z"
    },
    "papermill": {
     "duration": 0.233413,
     "end_time": "2021-05-20T00:16:00.329225",
     "exception": false,
     "start_time": "2021-05-20T00:16:00.095812",
     "status": "completed"
    },
    "tags": []
   },
   "outputs": [
    {
     "data": {
      "text/plain": [
       "(array([  2.,   1.,   4.,   8., 105., 283., 110.,  29.,   7.,   1.]),\n",
       " array([ 5.01063529,  5.56707967,  6.12352405,  6.67996843,  7.2364128 ,\n",
       "         7.79285718,  8.34930156,  8.90574594,  9.46219031, 10.01863469,\n",
       "        10.57507907]),\n",
       " <BarContainer object of 10 artists>)"
      ]
     },
     "execution_count": 30,
     "metadata": {},
     "output_type": "execute_result"
    },
    {
     "data": {
      "image/png": "[encoded data removed]",
      "text/plain": [
       "<Figure size 432x288 with 1 Axes>"
      ]
     },
     "metadata": {
      "needs_background": "light"
     },
     "output_type": "display_data"
    }
   ],
   "source": [
    "plt.hist(all_data_log['ApplicantIncome_log']) "
   ]
  },
  {
   "cell_type": "code",
   "execution_count": 31,
   "id": "ranging-algeria",
   "metadata": {
    "execution": {
     "iopub.execute_input": "2021-05-20T00:16:00.566531Z",
     "iopub.status.busy": "2021-05-20T00:16:00.565480Z",
     "iopub.status.idle": "2021-05-20T00:16:00.705451Z",
     "shell.execute_reply": "2021-05-20T00:16:00.704744Z",
     "shell.execute_reply.started": "2021-05-20T00:01:31.463859Z"
    },
    "papermill": {
     "duration": 0.29318,
     "end_time": "2021-05-20T00:16:00.705592",
     "exception": false,
     "start_time": "2021-05-20T00:16:00.412412",
     "status": "completed"
    },
    "tags": []
   },
   "outputs": [
    {
     "data": {
      "text/plain": [
       "(array([  1.,   0.,   0.,   8.,  25., 153., 276.,  76.,   7.,   4.]),\n",
       " array([ 2.78006079,  3.56580118,  4.35154158,  5.13728197,  5.92302236,\n",
       "         6.70876276,  7.49450315,  8.28024355,  9.06598394,  9.85172433,\n",
       "        10.63746473]),\n",
       " <BarContainer object of 10 artists>)"
      ]
     },
     "execution_count": 31,
     "metadata": {},
     "output_type": "execute_result"
    },
    {
     "data": {
      "image/png": "[encoded data removed]",
      "text/plain": [
       "<Figure size 432x288 with 1 Axes>"
      ]
     },
     "metadata": {
      "needs_background": "light"
     },
     "output_type": "display_data"
    }
   ],
   "source": [
    "plt.hist(all_data_log['CoapplicantIncome_log']) "
   ]
  },
  {
   "cell_type": "code",
   "execution_count": 32,
   "id": "exposed-chamber",
   "metadata": {
    "execution": {
     "iopub.execute_input": "2021-05-20T00:16:00.898196Z",
     "iopub.status.busy": "2021-05-20T00:16:00.897129Z",
     "iopub.status.idle": "2021-05-20T00:16:01.030472Z",
     "shell.execute_reply": "2021-05-20T00:16:01.029805Z",
     "shell.execute_reply.started": "2021-05-20T00:01:31.623756Z"
    },
    "papermill": {
     "duration": 0.240012,
     "end_time": "2021-05-20T00:16:01.030610",
     "exception": false,
     "start_time": "2021-05-20T00:16:00.790598",
     "status": "completed"
    },
    "tags": []
   },
   "outputs": [
    {
     "data": {
      "text/plain": [
       "(array([  1.,   4.,   5.,  14.,  53., 234., 166.,  39.,  16.,   6.]),\n",
       " array([2.83321334, 3.18445565, 3.53569795, 3.88694025, 4.23818255,\n",
       "        4.58942485, 4.94066715, 5.29190946, 5.64315176, 5.99439406,\n",
       "        6.34563636]),\n",
       " <BarContainer object of 10 artists>)"
      ]
     },
     "execution_count": 32,
     "metadata": {},
     "output_type": "execute_result"
    },
    {
     "data": {
      "image/png": "[encoded data removed]",
      "text/plain": [
       "<Figure size 432x288 with 1 Axes>"
      ]
     },
     "metadata": {
      "needs_background": "light"
     },
     "output_type": "display_data"
    }
   ],
   "source": [
    "plt.hist(all_data_log['LoanAmount_log'])"
   ]
  },
  {
   "cell_type": "markdown",
   "id": "czech-distinction",
   "metadata": {
    "papermill": {
     "duration": 0.084143,
     "end_time": "2021-05-20T00:16:01.199760",
     "exception": false,
     "start_time": "2021-05-20T00:16:01.115617",
     "status": "completed"
    },
    "tags": []
   },
   "source": [
    "We can verify that these are now approximately normally distributed. From here we will go ahead and drop the original columns associated with the log transformations and then follow the same steps as with the all_data dataset with how we will clean."
   ]
  },
  {
   "cell_type": "code",
   "execution_count": 33,
   "id": "imported-sector",
   "metadata": {
    "execution": {
     "iopub.execute_input": "2021-05-20T00:16:01.379082Z",
     "iopub.status.busy": "2021-05-20T00:16:01.378009Z",
     "iopub.status.idle": "2021-05-20T00:16:01.381419Z",
     "shell.execute_reply": "2021-05-20T00:16:01.380780Z",
     "shell.execute_reply.started": "2021-05-20T00:01:31.775583Z"
    },
    "papermill": {
     "duration": 0.096761,
     "end_time": "2021-05-20T00:16:01.381565",
     "exception": false,
     "start_time": "2021-05-20T00:16:01.284804",
     "status": "completed"
    },
    "tags": []
   },
   "outputs": [],
   "source": [
    "all_data_log.drop(['ApplicantIncome'], axis=1, inplace=True)\n",
    "all_data_log.drop(['CoapplicantIncome'], axis=1, inplace=True)\n",
    "all_data_log.drop(['LoanAmount'], axis=1, inplace=True)"
   ]
  },
  {
   "cell_type": "code",
   "execution_count": 34,
   "id": "opposed-netscape",
   "metadata": {
    "execution": {
     "iopub.execute_input": "2021-05-20T00:16:01.569488Z",
     "iopub.status.busy": "2021-05-20T00:16:01.568571Z",
     "iopub.status.idle": "2021-05-20T00:16:01.573476Z",
     "shell.execute_reply": "2021-05-20T00:16:01.572819Z",
     "shell.execute_reply.started": "2021-05-20T00:01:31.785326Z"
    },
    "papermill": {
     "duration": 0.107054,
     "end_time": "2021-05-20T00:16:01.573621",
     "exception": false,
     "start_time": "2021-05-20T00:16:01.466567",
     "status": "completed"
    },
    "tags": []
   },
   "outputs": [
    {
     "data": {
      "text/html": [
       "<div>\n",
       "<style scoped>\n",
       "    .dataframe tbody tr th:only-of-type {\n",
       "        vertical-align: middle;\n",
       "    }\n",
       "\n",
       "    .dataframe tbody tr th {\n",
       "        vertical-align: top;\n",
       "    }\n",
       "\n",
       "    .dataframe thead th {\n",
       "        text-align: right;\n",
       "    }\n",
       "</style>\n",
       "<table border=\"1\" class=\"dataframe\">\n",
       "  <thead>\n",
       "    <tr style=\"text-align: right;\">\n",
       "      <th></th>\n",
       "      <th>Loan_ID</th>\n",
       "      <th>Gender</th>\n",
       "      <th>Married</th>\n",
       "      <th>Dependents</th>\n",
       "      <th>Education</th>\n",
       "      <th>Self_Employed</th>\n",
       "      <th>Loan_Amount_Term</th>\n",
       "      <th>Credit_History</th>\n",
       "      <th>Property_Area</th>\n",
       "      <th>ApplicantIncome_log</th>\n",
       "      <th>CoapplicantIncome_log</th>\n",
       "      <th>LoanAmount_log</th>\n",
       "    </tr>\n",
       "  </thead>\n",
       "  <tbody>\n",
       "    <tr>\n",
       "      <th>0</th>\n",
       "      <td>LP001003</td>\n",
       "      <td>Male</td>\n",
       "      <td>Yes</td>\n",
       "      <td>1</td>\n",
       "      <td>Graduate</td>\n",
       "      <td>No</td>\n",
       "      <td>360.0</td>\n",
       "      <td>1.0</td>\n",
       "      <td>Rural</td>\n",
       "      <td>8.430109</td>\n",
       "      <td>7.318540</td>\n",
       "      <td>4.852030</td>\n",
       "    </tr>\n",
       "    <tr>\n",
       "      <th>1</th>\n",
       "      <td>LP001006</td>\n",
       "      <td>Male</td>\n",
       "      <td>Yes</td>\n",
       "      <td>0</td>\n",
       "      <td>Not Graduate</td>\n",
       "      <td>No</td>\n",
       "      <td>360.0</td>\n",
       "      <td>1.0</td>\n",
       "      <td>Urban</td>\n",
       "      <td>7.856707</td>\n",
       "      <td>7.765569</td>\n",
       "      <td>4.787492</td>\n",
       "    </tr>\n",
       "    <tr>\n",
       "      <th>2</th>\n",
       "      <td>LP001011</td>\n",
       "      <td>Male</td>\n",
       "      <td>Yes</td>\n",
       "      <td>2</td>\n",
       "      <td>Graduate</td>\n",
       "      <td>Yes</td>\n",
       "      <td>360.0</td>\n",
       "      <td>1.0</td>\n",
       "      <td>Urban</td>\n",
       "      <td>8.597297</td>\n",
       "      <td>8.341887</td>\n",
       "      <td>5.587249</td>\n",
       "    </tr>\n",
       "    <tr>\n",
       "      <th>3</th>\n",
       "      <td>LP001013</td>\n",
       "      <td>Male</td>\n",
       "      <td>Yes</td>\n",
       "      <td>0</td>\n",
       "      <td>Not Graduate</td>\n",
       "      <td>No</td>\n",
       "      <td>360.0</td>\n",
       "      <td>1.0</td>\n",
       "      <td>Urban</td>\n",
       "      <td>7.754910</td>\n",
       "      <td>7.323831</td>\n",
       "      <td>4.553877</td>\n",
       "    </tr>\n",
       "    <tr>\n",
       "      <th>4</th>\n",
       "      <td>LP001014</td>\n",
       "      <td>Male</td>\n",
       "      <td>Yes</td>\n",
       "      <td>3+</td>\n",
       "      <td>Graduate</td>\n",
       "      <td>No</td>\n",
       "      <td>360.0</td>\n",
       "      <td>0.0</td>\n",
       "      <td>Semiurban</td>\n",
       "      <td>8.018296</td>\n",
       "      <td>7.825645</td>\n",
       "      <td>5.062595</td>\n",
       "    </tr>\n",
       "  </tbody>\n",
       "</table>\n",
       "</div>"
      ],
      "text/plain": [
       "    Loan_ID Gender Married Dependents     Education Self_Employed  \\\n",
       "0  LP001003   Male     Yes          1      Graduate            No   \n",
       "1  LP001006   Male     Yes          0  Not Graduate            No   \n",
       "2  LP001011   Male     Yes          2      Graduate           Yes   \n",
       "3  LP001013   Male     Yes          0  Not Graduate            No   \n",
       "4  LP001014   Male     Yes         3+      Graduate            No   \n",
       "\n",
       "   Loan_Amount_Term  Credit_History Property_Area  ApplicantIncome_log  \\\n",
       "0             360.0             1.0         Rural             8.430109   \n",
       "1             360.0             1.0         Urban             7.856707   \n",
       "2             360.0             1.0         Urban             8.597297   \n",
       "3             360.0             1.0         Urban             7.754910   \n",
       "4             360.0             0.0     Semiurban             8.018296   \n",
       "\n",
       "   CoapplicantIncome_log  LoanAmount_log  \n",
       "0               7.318540        4.852030  \n",
       "1               7.765569        4.787492  \n",
       "2               8.341887        5.587249  \n",
       "3               7.323831        4.553877  \n",
       "4               7.825645        5.062595  "
      ]
     },
     "execution_count": 34,
     "metadata": {},
     "output_type": "execute_result"
    }
   ],
   "source": [
    "all_data_log.head()"
   ]
  },
  {
   "cell_type": "code",
   "execution_count": 35,
   "id": "antique-anchor",
   "metadata": {
    "execution": {
     "iopub.execute_input": "2021-05-20T00:16:01.759389Z",
     "iopub.status.busy": "2021-05-20T00:16:01.758529Z",
     "iopub.status.idle": "2021-05-20T00:16:01.763065Z",
     "shell.execute_reply": "2021-05-20T00:16:01.762537Z",
     "shell.execute_reply.started": "2021-05-20T00:01:31.819607Z"
    },
    "papermill": {
     "duration": 0.103985,
     "end_time": "2021-05-20T00:16:01.763201",
     "exception": false,
     "start_time": "2021-05-20T00:16:01.659216",
     "status": "completed"
    },
    "tags": []
   },
   "outputs": [
    {
     "data": {
      "text/html": [
       "<div>\n",
       "<style scoped>\n",
       "    .dataframe tbody tr th:only-of-type {\n",
       "        vertical-align: middle;\n",
       "    }\n",
       "\n",
       "    .dataframe tbody tr th {\n",
       "        vertical-align: top;\n",
       "    }\n",
       "\n",
       "    .dataframe thead th {\n",
       "        text-align: right;\n",
       "    }\n",
       "</style>\n",
       "<table border=\"1\" class=\"dataframe\">\n",
       "  <thead>\n",
       "    <tr style=\"text-align: right;\">\n",
       "      <th></th>\n",
       "      <th>Loan_Amount_Term</th>\n",
       "      <th>Credit_History</th>\n",
       "      <th>ApplicantIncome_log</th>\n",
       "      <th>CoapplicantIncome_log</th>\n",
       "      <th>LoanAmount_log</th>\n",
       "    </tr>\n",
       "  </thead>\n",
       "  <tbody>\n",
       "    <tr>\n",
       "      <th>0</th>\n",
       "      <td>360.0</td>\n",
       "      <td>1.0</td>\n",
       "      <td>8.430109</td>\n",
       "      <td>7.318540</td>\n",
       "      <td>4.852030</td>\n",
       "    </tr>\n",
       "    <tr>\n",
       "      <th>1</th>\n",
       "      <td>360.0</td>\n",
       "      <td>1.0</td>\n",
       "      <td>7.856707</td>\n",
       "      <td>7.765569</td>\n",
       "      <td>4.787492</td>\n",
       "    </tr>\n",
       "    <tr>\n",
       "      <th>2</th>\n",
       "      <td>360.0</td>\n",
       "      <td>1.0</td>\n",
       "      <td>8.597297</td>\n",
       "      <td>8.341887</td>\n",
       "      <td>5.587249</td>\n",
       "    </tr>\n",
       "    <tr>\n",
       "      <th>3</th>\n",
       "      <td>360.0</td>\n",
       "      <td>1.0</td>\n",
       "      <td>7.754910</td>\n",
       "      <td>7.323831</td>\n",
       "      <td>4.553877</td>\n",
       "    </tr>\n",
       "    <tr>\n",
       "      <th>4</th>\n",
       "      <td>360.0</td>\n",
       "      <td>0.0</td>\n",
       "      <td>8.018296</td>\n",
       "      <td>7.825645</td>\n",
       "      <td>5.062595</td>\n",
       "    </tr>\n",
       "  </tbody>\n",
       "</table>\n",
       "</div>"
      ],
      "text/plain": [
       "   Loan_Amount_Term  Credit_History  ApplicantIncome_log  \\\n",
       "0             360.0             1.0             8.430109   \n",
       "1             360.0             1.0             7.856707   \n",
       "2             360.0             1.0             8.597297   \n",
       "3             360.0             1.0             7.754910   \n",
       "4             360.0             0.0             8.018296   \n",
       "\n",
       "   CoapplicantIncome_log  LoanAmount_log  \n",
       "0               7.318540        4.852030  \n",
       "1               7.765569        4.787492  \n",
       "2               8.341887        5.587249  \n",
       "3               7.323831        4.553877  \n",
       "4               7.825645        5.062595  "
      ]
     },
     "execution_count": 35,
     "metadata": {},
     "output_type": "execute_result"
    }
   ],
   "source": [
    "Numeric_Columns_log = all_data_log.select_dtypes(include=np.number) #Creating dataset for just the numeric columns\n",
    "Numeric_Columns_log.head()"
   ]
  },
  {
   "cell_type": "code",
   "execution_count": 36,
   "id": "improving-tactics",
   "metadata": {
    "execution": {
     "iopub.execute_input": "2021-05-20T00:16:01.956281Z",
     "iopub.status.busy": "2021-05-20T00:16:01.945659Z",
     "iopub.status.idle": "2021-05-20T00:16:01.960437Z",
     "shell.execute_reply": "2021-05-20T00:16:01.960870Z",
     "shell.execute_reply.started": "2021-05-20T00:01:31.835430Z"
    },
    "papermill": {
     "duration": 0.110086,
     "end_time": "2021-05-20T00:16:01.961064",
     "exception": false,
     "start_time": "2021-05-20T00:16:01.850978",
     "status": "completed"
    },
    "tags": []
   },
   "outputs": [
    {
     "data": {
      "text/html": [
       "<div>\n",
       "<style scoped>\n",
       "    .dataframe tbody tr th:only-of-type {\n",
       "        vertical-align: middle;\n",
       "    }\n",
       "\n",
       "    .dataframe tbody tr th {\n",
       "        vertical-align: top;\n",
       "    }\n",
       "\n",
       "    .dataframe thead th {\n",
       "        text-align: right;\n",
       "    }\n",
       "</style>\n",
       "<table border=\"1\" class=\"dataframe\">\n",
       "  <thead>\n",
       "    <tr style=\"text-align: right;\">\n",
       "      <th></th>\n",
       "      <th>Loan_Amount_Term</th>\n",
       "      <th>Credit_History</th>\n",
       "      <th>ApplicantIncome_log</th>\n",
       "      <th>CoapplicantIncome_log</th>\n",
       "      <th>LoanAmount_log</th>\n",
       "      <th>Loan_ID</th>\n",
       "    </tr>\n",
       "  </thead>\n",
       "  <tbody>\n",
       "    <tr>\n",
       "      <th>0</th>\n",
       "      <td>360.0</td>\n",
       "      <td>1.0</td>\n",
       "      <td>8.430109</td>\n",
       "      <td>7.318540</td>\n",
       "      <td>4.852030</td>\n",
       "      <td>LP001003</td>\n",
       "    </tr>\n",
       "    <tr>\n",
       "      <th>1</th>\n",
       "      <td>360.0</td>\n",
       "      <td>1.0</td>\n",
       "      <td>7.856707</td>\n",
       "      <td>7.765569</td>\n",
       "      <td>4.787492</td>\n",
       "      <td>LP001006</td>\n",
       "    </tr>\n",
       "    <tr>\n",
       "      <th>2</th>\n",
       "      <td>360.0</td>\n",
       "      <td>1.0</td>\n",
       "      <td>8.597297</td>\n",
       "      <td>8.341887</td>\n",
       "      <td>5.587249</td>\n",
       "      <td>LP001011</td>\n",
       "    </tr>\n",
       "    <tr>\n",
       "      <th>3</th>\n",
       "      <td>360.0</td>\n",
       "      <td>1.0</td>\n",
       "      <td>7.754910</td>\n",
       "      <td>7.323831</td>\n",
       "      <td>4.553877</td>\n",
       "      <td>LP001013</td>\n",
       "    </tr>\n",
       "    <tr>\n",
       "      <th>4</th>\n",
       "      <td>360.0</td>\n",
       "      <td>0.0</td>\n",
       "      <td>8.018296</td>\n",
       "      <td>7.825645</td>\n",
       "      <td>5.062595</td>\n",
       "      <td>LP001014</td>\n",
       "    </tr>\n",
       "  </tbody>\n",
       "</table>\n",
       "</div>"
      ],
      "text/plain": [
       "   Loan_Amount_Term  Credit_History  ApplicantIncome_log  \\\n",
       "0             360.0             1.0             8.430109   \n",
       "1             360.0             1.0             7.856707   \n",
       "2             360.0             1.0             8.597297   \n",
       "3             360.0             1.0             7.754910   \n",
       "4             360.0             0.0             8.018296   \n",
       "\n",
       "   CoapplicantIncome_log  LoanAmount_log   Loan_ID  \n",
       "0               7.318540        4.852030  LP001003  \n",
       "1               7.765569        4.787492  LP001006  \n",
       "2               8.341887        5.587249  LP001011  \n",
       "3               7.323831        4.553877  LP001013  \n",
       "4               7.825645        5.062595  LP001014  "
      ]
     },
     "execution_count": 36,
     "metadata": {},
     "output_type": "execute_result"
    }
   ],
   "source": [
    "imputed_num_log = pd.DataFrame(my_imputer.fit_transform(Numeric_Columns_log)) #Using simple imputer to fill in missing values\n",
    "\n",
    "imputed_num_log.columns = Numeric_Columns_log.columns #Making column headings the same for imputed_num as Numeric_Columns\n",
    "identification_log = all_data_log['Loan_ID'] #Making a column for Loan_ID to merge numerical and categorical data\n",
    "imputed_num_log = imputed_num_log.join(identification_log)\n",
    "imputed_num_log.head()"
   ]
  },
  {
   "cell_type": "code",
   "execution_count": 37,
   "id": "shaped-housing",
   "metadata": {
    "execution": {
     "iopub.execute_input": "2021-05-20T00:16:02.150534Z",
     "iopub.status.busy": "2021-05-20T00:16:02.149876Z",
     "iopub.status.idle": "2021-05-20T00:16:02.157274Z",
     "shell.execute_reply": "2021-05-20T00:16:02.156423Z",
     "shell.execute_reply.started": "2021-05-20T00:01:31.863511Z"
    },
    "papermill": {
     "duration": 0.108965,
     "end_time": "2021-05-20T00:16:02.157459",
     "exception": false,
     "start_time": "2021-05-20T00:16:02.048494",
     "status": "completed"
    },
    "tags": []
   },
   "outputs": [
    {
     "name": "stderr",
     "output_type": "stream",
     "text": [
      "/opt/conda/lib/python3.7/site-packages/pandas/core/frame.py:4315: SettingWithCopyWarning: \n",
      "A value is trying to be set on a copy of a slice from a DataFrame\n",
      "\n",
      "See the caveats in the documentation: https://pandas.pydata.org/pandas-docs/stable/user_guide/indexing.html#returning-a-view-versus-a-copy\n",
      "  errors=errors,\n"
     ]
    },
    {
     "data": {
      "text/html": [
       "<div>\n",
       "<style scoped>\n",
       "    .dataframe tbody tr th:only-of-type {\n",
       "        vertical-align: middle;\n",
       "    }\n",
       "\n",
       "    .dataframe tbody tr th {\n",
       "        vertical-align: top;\n",
       "    }\n",
       "\n",
       "    .dataframe thead th {\n",
       "        text-align: right;\n",
       "    }\n",
       "</style>\n",
       "<table border=\"1\" class=\"dataframe\">\n",
       "  <thead>\n",
       "    <tr style=\"text-align: right;\">\n",
       "      <th></th>\n",
       "      <th>Gender</th>\n",
       "      <th>Married</th>\n",
       "      <th>Dependents</th>\n",
       "      <th>Education</th>\n",
       "      <th>Self_Employed</th>\n",
       "      <th>Property_Area</th>\n",
       "    </tr>\n",
       "  </thead>\n",
       "  <tbody>\n",
       "    <tr>\n",
       "      <th>0</th>\n",
       "      <td>Male</td>\n",
       "      <td>Yes</td>\n",
       "      <td>1</td>\n",
       "      <td>Graduate</td>\n",
       "      <td>No</td>\n",
       "      <td>Rural</td>\n",
       "    </tr>\n",
       "    <tr>\n",
       "      <th>1</th>\n",
       "      <td>Male</td>\n",
       "      <td>Yes</td>\n",
       "      <td>0</td>\n",
       "      <td>Not Graduate</td>\n",
       "      <td>No</td>\n",
       "      <td>Urban</td>\n",
       "    </tr>\n",
       "    <tr>\n",
       "      <th>2</th>\n",
       "      <td>Male</td>\n",
       "      <td>Yes</td>\n",
       "      <td>2</td>\n",
       "      <td>Graduate</td>\n",
       "      <td>Yes</td>\n",
       "      <td>Urban</td>\n",
       "    </tr>\n",
       "    <tr>\n",
       "      <th>3</th>\n",
       "      <td>Male</td>\n",
       "      <td>Yes</td>\n",
       "      <td>0</td>\n",
       "      <td>Not Graduate</td>\n",
       "      <td>No</td>\n",
       "      <td>Urban</td>\n",
       "    </tr>\n",
       "    <tr>\n",
       "      <th>4</th>\n",
       "      <td>Male</td>\n",
       "      <td>Yes</td>\n",
       "      <td>3+</td>\n",
       "      <td>Graduate</td>\n",
       "      <td>No</td>\n",
       "      <td>Semiurban</td>\n",
       "    </tr>\n",
       "  </tbody>\n",
       "</table>\n",
       "</div>"
      ],
      "text/plain": [
       "  Gender Married Dependents     Education Self_Employed Property_Area\n",
       "0   Male     Yes          1      Graduate            No         Rural\n",
       "1   Male     Yes          0  Not Graduate            No         Urban\n",
       "2   Male     Yes          2      Graduate           Yes         Urban\n",
       "3   Male     Yes          0  Not Graduate            No         Urban\n",
       "4   Male     Yes         3+      Graduate            No     Semiurban"
      ]
     },
     "execution_count": 37,
     "metadata": {},
     "output_type": "execute_result"
    }
   ],
   "source": [
    "Categorical_Columns_log = all_data_log.select_dtypes(exclude=np.number)\n",
    "Categorical_Columns_log.drop(['Loan_ID'], axis=1, inplace=True)\n",
    "Categorical_Columns_log.head()"
   ]
  },
  {
   "cell_type": "code",
   "execution_count": 38,
   "id": "growing-celebrity",
   "metadata": {
    "execution": {
     "iopub.execute_input": "2021-05-20T00:16:02.337799Z",
     "iopub.status.busy": "2021-05-20T00:16:02.336714Z",
     "iopub.status.idle": "2021-05-20T00:16:02.355535Z",
     "shell.execute_reply": "2021-05-20T00:16:02.355014Z",
     "shell.execute_reply.started": "2021-05-20T00:01:31.883393Z"
    },
    "papermill": {
     "duration": 0.111526,
     "end_time": "2021-05-20T00:16:02.355669",
     "exception": false,
     "start_time": "2021-05-20T00:16:02.244143",
     "status": "completed"
    },
    "tags": []
   },
   "outputs": [
    {
     "data": {
      "text/html": [
       "<div>\n",
       "<style scoped>\n",
       "    .dataframe tbody tr th:only-of-type {\n",
       "        vertical-align: middle;\n",
       "    }\n",
       "\n",
       "    .dataframe tbody tr th {\n",
       "        vertical-align: top;\n",
       "    }\n",
       "\n",
       "    .dataframe thead th {\n",
       "        text-align: right;\n",
       "    }\n",
       "</style>\n",
       "<table border=\"1\" class=\"dataframe\">\n",
       "  <thead>\n",
       "    <tr style=\"text-align: right;\">\n",
       "      <th></th>\n",
       "      <th>Gender_Female</th>\n",
       "      <th>Gender_Male</th>\n",
       "      <th>Married_No</th>\n",
       "      <th>Married_Yes</th>\n",
       "      <th>Dependents_0</th>\n",
       "      <th>Dependents_1</th>\n",
       "      <th>Dependents_2</th>\n",
       "      <th>Dependents_3+</th>\n",
       "      <th>Education_Graduate</th>\n",
       "      <th>Education_Not Graduate</th>\n",
       "      <th>Self_Employed_No</th>\n",
       "      <th>Self_Employed_Yes</th>\n",
       "      <th>Property_Area_Rural</th>\n",
       "      <th>Property_Area_Semiurban</th>\n",
       "      <th>Property_Area_Urban</th>\n",
       "    </tr>\n",
       "  </thead>\n",
       "  <tbody>\n",
       "    <tr>\n",
       "      <th>0</th>\n",
       "      <td>0</td>\n",
       "      <td>1</td>\n",
       "      <td>0</td>\n",
       "      <td>1</td>\n",
       "      <td>0</td>\n",
       "      <td>1</td>\n",
       "      <td>0</td>\n",
       "      <td>0</td>\n",
       "      <td>1</td>\n",
       "      <td>0</td>\n",
       "      <td>1</td>\n",
       "      <td>0</td>\n",
       "      <td>1</td>\n",
       "      <td>0</td>\n",
       "      <td>0</td>\n",
       "    </tr>\n",
       "    <tr>\n",
       "      <th>1</th>\n",
       "      <td>0</td>\n",
       "      <td>1</td>\n",
       "      <td>0</td>\n",
       "      <td>1</td>\n",
       "      <td>1</td>\n",
       "      <td>0</td>\n",
       "      <td>0</td>\n",
       "      <td>0</td>\n",
       "      <td>0</td>\n",
       "      <td>1</td>\n",
       "      <td>1</td>\n",
       "      <td>0</td>\n",
       "      <td>0</td>\n",
       "      <td>0</td>\n",
       "      <td>1</td>\n",
       "    </tr>\n",
       "    <tr>\n",
       "      <th>2</th>\n",
       "      <td>0</td>\n",
       "      <td>1</td>\n",
       "      <td>0</td>\n",
       "      <td>1</td>\n",
       "      <td>0</td>\n",
       "      <td>0</td>\n",
       "      <td>1</td>\n",
       "      <td>0</td>\n",
       "      <td>1</td>\n",
       "      <td>0</td>\n",
       "      <td>0</td>\n",
       "      <td>1</td>\n",
       "      <td>0</td>\n",
       "      <td>0</td>\n",
       "      <td>1</td>\n",
       "    </tr>\n",
       "    <tr>\n",
       "      <th>3</th>\n",
       "      <td>0</td>\n",
       "      <td>1</td>\n",
       "      <td>0</td>\n",
       "      <td>1</td>\n",
       "      <td>1</td>\n",
       "      <td>0</td>\n",
       "      <td>0</td>\n",
       "      <td>0</td>\n",
       "      <td>0</td>\n",
       "      <td>1</td>\n",
       "      <td>1</td>\n",
       "      <td>0</td>\n",
       "      <td>0</td>\n",
       "      <td>0</td>\n",
       "      <td>1</td>\n",
       "    </tr>\n",
       "    <tr>\n",
       "      <th>4</th>\n",
       "      <td>0</td>\n",
       "      <td>1</td>\n",
       "      <td>0</td>\n",
       "      <td>1</td>\n",
       "      <td>0</td>\n",
       "      <td>0</td>\n",
       "      <td>0</td>\n",
       "      <td>1</td>\n",
       "      <td>1</td>\n",
       "      <td>0</td>\n",
       "      <td>1</td>\n",
       "      <td>0</td>\n",
       "      <td>0</td>\n",
       "      <td>1</td>\n",
       "      <td>0</td>\n",
       "    </tr>\n",
       "  </tbody>\n",
       "</table>\n",
       "</div>"
      ],
      "text/plain": [
       "   Gender_Female  Gender_Male  Married_No  Married_Yes  Dependents_0  \\\n",
       "0              0            1           0            1             0   \n",
       "1              0            1           0            1             1   \n",
       "2              0            1           0            1             0   \n",
       "3              0            1           0            1             1   \n",
       "4              0            1           0            1             0   \n",
       "\n",
       "   Dependents_1  Dependents_2  Dependents_3+  Education_Graduate  \\\n",
       "0             1             0              0                   1   \n",
       "1             0             0              0                   0   \n",
       "2             0             1              0                   1   \n",
       "3             0             0              0                   0   \n",
       "4             0             0              1                   1   \n",
       "\n",
       "   Education_Not Graduate  Self_Employed_No  Self_Employed_Yes  \\\n",
       "0                       0                 1                  0   \n",
       "1                       1                 1                  0   \n",
       "2                       0                 0                  1   \n",
       "3                       1                 1                  0   \n",
       "4                       0                 1                  0   \n",
       "\n",
       "   Property_Area_Rural  Property_Area_Semiurban  Property_Area_Urban  \n",
       "0                    1                        0                    0  \n",
       "1                    0                        0                    1  \n",
       "2                    0                        0                    1  \n",
       "3                    0                        0                    1  \n",
       "4                    0                        1                    0  "
      ]
     },
     "execution_count": 38,
     "metadata": {},
     "output_type": "execute_result"
    }
   ],
   "source": [
    "imputed_categorical_log = pd.get_dummies(data=Categorical_Columns_log) #Using get_dummies to clean up categorical data\n",
    "imputed_categorical_log.head()"
   ]
  },
  {
   "cell_type": "code",
   "execution_count": 39,
   "id": "english-genome",
   "metadata": {
    "execution": {
     "iopub.execute_input": "2021-05-20T00:16:02.548170Z",
     "iopub.status.busy": "2021-05-20T00:16:02.547210Z",
     "iopub.status.idle": "2021-05-20T00:16:02.551222Z",
     "shell.execute_reply": "2021-05-20T00:16:02.551672Z",
     "shell.execute_reply.started": "2021-05-20T00:01:31.911066Z"
    },
    "papermill": {
     "duration": 0.108665,
     "end_time": "2021-05-20T00:16:02.551840",
     "exception": false,
     "start_time": "2021-05-20T00:16:02.443175",
     "status": "completed"
    },
    "tags": []
   },
   "outputs": [
    {
     "data": {
      "text/html": [
       "<div>\n",
       "<style scoped>\n",
       "    .dataframe tbody tr th:only-of-type {\n",
       "        vertical-align: middle;\n",
       "    }\n",
       "\n",
       "    .dataframe tbody tr th {\n",
       "        vertical-align: top;\n",
       "    }\n",
       "\n",
       "    .dataframe thead th {\n",
       "        text-align: right;\n",
       "    }\n",
       "</style>\n",
       "<table border=\"1\" class=\"dataframe\">\n",
       "  <thead>\n",
       "    <tr style=\"text-align: right;\">\n",
       "      <th></th>\n",
       "      <th>Gender_Female</th>\n",
       "      <th>Gender_Male</th>\n",
       "      <th>Married_No</th>\n",
       "      <th>Married_Yes</th>\n",
       "      <th>Dependents_0</th>\n",
       "      <th>Dependents_1</th>\n",
       "      <th>Dependents_2</th>\n",
       "      <th>Dependents_3+</th>\n",
       "      <th>Education_Graduate</th>\n",
       "      <th>Education_Not Graduate</th>\n",
       "      <th>Self_Employed_No</th>\n",
       "      <th>Self_Employed_Yes</th>\n",
       "      <th>Property_Area_Rural</th>\n",
       "      <th>Property_Area_Semiurban</th>\n",
       "      <th>Property_Area_Urban</th>\n",
       "      <th>Loan_ID</th>\n",
       "    </tr>\n",
       "  </thead>\n",
       "  <tbody>\n",
       "    <tr>\n",
       "      <th>0</th>\n",
       "      <td>0</td>\n",
       "      <td>1</td>\n",
       "      <td>0</td>\n",
       "      <td>1</td>\n",
       "      <td>0</td>\n",
       "      <td>1</td>\n",
       "      <td>0</td>\n",
       "      <td>0</td>\n",
       "      <td>1</td>\n",
       "      <td>0</td>\n",
       "      <td>1</td>\n",
       "      <td>0</td>\n",
       "      <td>1</td>\n",
       "      <td>0</td>\n",
       "      <td>0</td>\n",
       "      <td>LP001003</td>\n",
       "    </tr>\n",
       "    <tr>\n",
       "      <th>1</th>\n",
       "      <td>0</td>\n",
       "      <td>1</td>\n",
       "      <td>0</td>\n",
       "      <td>1</td>\n",
       "      <td>1</td>\n",
       "      <td>0</td>\n",
       "      <td>0</td>\n",
       "      <td>0</td>\n",
       "      <td>0</td>\n",
       "      <td>1</td>\n",
       "      <td>1</td>\n",
       "      <td>0</td>\n",
       "      <td>0</td>\n",
       "      <td>0</td>\n",
       "      <td>1</td>\n",
       "      <td>LP001006</td>\n",
       "    </tr>\n",
       "    <tr>\n",
       "      <th>2</th>\n",
       "      <td>0</td>\n",
       "      <td>1</td>\n",
       "      <td>0</td>\n",
       "      <td>1</td>\n",
       "      <td>0</td>\n",
       "      <td>0</td>\n",
       "      <td>1</td>\n",
       "      <td>0</td>\n",
       "      <td>1</td>\n",
       "      <td>0</td>\n",
       "      <td>0</td>\n",
       "      <td>1</td>\n",
       "      <td>0</td>\n",
       "      <td>0</td>\n",
       "      <td>1</td>\n",
       "      <td>LP001011</td>\n",
       "    </tr>\n",
       "    <tr>\n",
       "      <th>3</th>\n",
       "      <td>0</td>\n",
       "      <td>1</td>\n",
       "      <td>0</td>\n",
       "      <td>1</td>\n",
       "      <td>1</td>\n",
       "      <td>0</td>\n",
       "      <td>0</td>\n",
       "      <td>0</td>\n",
       "      <td>0</td>\n",
       "      <td>1</td>\n",
       "      <td>1</td>\n",
       "      <td>0</td>\n",
       "      <td>0</td>\n",
       "      <td>0</td>\n",
       "      <td>1</td>\n",
       "      <td>LP001013</td>\n",
       "    </tr>\n",
       "    <tr>\n",
       "      <th>4</th>\n",
       "      <td>0</td>\n",
       "      <td>1</td>\n",
       "      <td>0</td>\n",
       "      <td>1</td>\n",
       "      <td>0</td>\n",
       "      <td>0</td>\n",
       "      <td>0</td>\n",
       "      <td>1</td>\n",
       "      <td>1</td>\n",
       "      <td>0</td>\n",
       "      <td>1</td>\n",
       "      <td>0</td>\n",
       "      <td>0</td>\n",
       "      <td>1</td>\n",
       "      <td>0</td>\n",
       "      <td>LP001014</td>\n",
       "    </tr>\n",
       "  </tbody>\n",
       "</table>\n",
       "</div>"
      ],
      "text/plain": [
       "   Gender_Female  Gender_Male  Married_No  Married_Yes  Dependents_0  \\\n",
       "0              0            1           0            1             0   \n",
       "1              0            1           0            1             1   \n",
       "2              0            1           0            1             0   \n",
       "3              0            1           0            1             1   \n",
       "4              0            1           0            1             0   \n",
       "\n",
       "   Dependents_1  Dependents_2  Dependents_3+  Education_Graduate  \\\n",
       "0             1             0              0                   1   \n",
       "1             0             0              0                   0   \n",
       "2             0             1              0                   1   \n",
       "3             0             0              0                   0   \n",
       "4             0             0              1                   1   \n",
       "\n",
       "   Education_Not Graduate  Self_Employed_No  Self_Employed_Yes  \\\n",
       "0                       0                 1                  0   \n",
       "1                       1                 1                  0   \n",
       "2                       0                 0                  1   \n",
       "3                       1                 1                  0   \n",
       "4                       0                 1                  0   \n",
       "\n",
       "   Property_Area_Rural  Property_Area_Semiurban  Property_Area_Urban   Loan_ID  \n",
       "0                    1                        0                    0  LP001003  \n",
       "1                    0                        0                    1  LP001006  \n",
       "2                    0                        0                    1  LP001011  \n",
       "3                    0                        0                    1  LP001013  \n",
       "4                    0                        1                    0  LP001014  "
      ]
     },
     "execution_count": 39,
     "metadata": {},
     "output_type": "execute_result"
    }
   ],
   "source": [
    "imputed_categorical_log = imputed_categorical_log.join(identification_log)\n",
    "imputed_categorical_log.head()"
   ]
  },
  {
   "cell_type": "code",
   "execution_count": 40,
   "id": "sized-founder",
   "metadata": {
    "execution": {
     "iopub.execute_input": "2021-05-20T00:16:02.734204Z",
     "iopub.status.busy": "2021-05-20T00:16:02.733088Z",
     "iopub.status.idle": "2021-05-20T00:16:02.755344Z",
     "shell.execute_reply": "2021-05-20T00:16:02.755782Z",
     "shell.execute_reply.started": "2021-05-20T00:01:31.930059Z"
    },
    "papermill": {
     "duration": 0.11654,
     "end_time": "2021-05-20T00:16:02.755980",
     "exception": false,
     "start_time": "2021-05-20T00:16:02.639440",
     "status": "completed"
    },
    "tags": []
   },
   "outputs": [
    {
     "data": {
      "text/html": [
       "<div>\n",
       "<style scoped>\n",
       "    .dataframe tbody tr th:only-of-type {\n",
       "        vertical-align: middle;\n",
       "    }\n",
       "\n",
       "    .dataframe tbody tr th {\n",
       "        vertical-align: top;\n",
       "    }\n",
       "\n",
       "    .dataframe thead th {\n",
       "        text-align: right;\n",
       "    }\n",
       "</style>\n",
       "<table border=\"1\" class=\"dataframe\">\n",
       "  <thead>\n",
       "    <tr style=\"text-align: right;\">\n",
       "      <th></th>\n",
       "      <th>Loan_Amount_Term</th>\n",
       "      <th>Credit_History</th>\n",
       "      <th>ApplicantIncome_log</th>\n",
       "      <th>CoapplicantIncome_log</th>\n",
       "      <th>LoanAmount_log</th>\n",
       "      <th>Gender_Female</th>\n",
       "      <th>Gender_Male</th>\n",
       "      <th>Married_No</th>\n",
       "      <th>Married_Yes</th>\n",
       "      <th>Dependents_0</th>\n",
       "      <th>Dependents_1</th>\n",
       "      <th>Dependents_2</th>\n",
       "      <th>Dependents_3+</th>\n",
       "      <th>Education_Graduate</th>\n",
       "      <th>Education_Not Graduate</th>\n",
       "      <th>Self_Employed_No</th>\n",
       "      <th>Self_Employed_Yes</th>\n",
       "      <th>Property_Area_Rural</th>\n",
       "      <th>Property_Area_Semiurban</th>\n",
       "      <th>Property_Area_Urban</th>\n",
       "    </tr>\n",
       "  </thead>\n",
       "  <tbody>\n",
       "    <tr>\n",
       "      <th>0</th>\n",
       "      <td>360.0</td>\n",
       "      <td>1.0</td>\n",
       "      <td>8.430109</td>\n",
       "      <td>7.318540</td>\n",
       "      <td>4.852030</td>\n",
       "      <td>0</td>\n",
       "      <td>1</td>\n",
       "      <td>0</td>\n",
       "      <td>1</td>\n",
       "      <td>0</td>\n",
       "      <td>1</td>\n",
       "      <td>0</td>\n",
       "      <td>0</td>\n",
       "      <td>1</td>\n",
       "      <td>0</td>\n",
       "      <td>1</td>\n",
       "      <td>0</td>\n",
       "      <td>1</td>\n",
       "      <td>0</td>\n",
       "      <td>0</td>\n",
       "    </tr>\n",
       "    <tr>\n",
       "      <th>1</th>\n",
       "      <td>360.0</td>\n",
       "      <td>1.0</td>\n",
       "      <td>7.856707</td>\n",
       "      <td>7.765569</td>\n",
       "      <td>4.787492</td>\n",
       "      <td>0</td>\n",
       "      <td>1</td>\n",
       "      <td>0</td>\n",
       "      <td>1</td>\n",
       "      <td>1</td>\n",
       "      <td>0</td>\n",
       "      <td>0</td>\n",
       "      <td>0</td>\n",
       "      <td>0</td>\n",
       "      <td>1</td>\n",
       "      <td>1</td>\n",
       "      <td>0</td>\n",
       "      <td>0</td>\n",
       "      <td>0</td>\n",
       "      <td>1</td>\n",
       "    </tr>\n",
       "    <tr>\n",
       "      <th>2</th>\n",
       "      <td>360.0</td>\n",
       "      <td>1.0</td>\n",
       "      <td>8.597297</td>\n",
       "      <td>8.341887</td>\n",
       "      <td>5.587249</td>\n",
       "      <td>0</td>\n",
       "      <td>1</td>\n",
       "      <td>0</td>\n",
       "      <td>1</td>\n",
       "      <td>0</td>\n",
       "      <td>0</td>\n",
       "      <td>1</td>\n",
       "      <td>0</td>\n",
       "      <td>1</td>\n",
       "      <td>0</td>\n",
       "      <td>0</td>\n",
       "      <td>1</td>\n",
       "      <td>0</td>\n",
       "      <td>0</td>\n",
       "      <td>1</td>\n",
       "    </tr>\n",
       "    <tr>\n",
       "      <th>3</th>\n",
       "      <td>360.0</td>\n",
       "      <td>1.0</td>\n",
       "      <td>7.754910</td>\n",
       "      <td>7.323831</td>\n",
       "      <td>4.553877</td>\n",
       "      <td>0</td>\n",
       "      <td>1</td>\n",
       "      <td>0</td>\n",
       "      <td>1</td>\n",
       "      <td>1</td>\n",
       "      <td>0</td>\n",
       "      <td>0</td>\n",
       "      <td>0</td>\n",
       "      <td>0</td>\n",
       "      <td>1</td>\n",
       "      <td>1</td>\n",
       "      <td>0</td>\n",
       "      <td>0</td>\n",
       "      <td>0</td>\n",
       "      <td>1</td>\n",
       "    </tr>\n",
       "    <tr>\n",
       "      <th>4</th>\n",
       "      <td>360.0</td>\n",
       "      <td>0.0</td>\n",
       "      <td>8.018296</td>\n",
       "      <td>7.825645</td>\n",
       "      <td>5.062595</td>\n",
       "      <td>0</td>\n",
       "      <td>1</td>\n",
       "      <td>0</td>\n",
       "      <td>1</td>\n",
       "      <td>0</td>\n",
       "      <td>0</td>\n",
       "      <td>0</td>\n",
       "      <td>1</td>\n",
       "      <td>1</td>\n",
       "      <td>0</td>\n",
       "      <td>1</td>\n",
       "      <td>0</td>\n",
       "      <td>0</td>\n",
       "      <td>1</td>\n",
       "      <td>0</td>\n",
       "    </tr>\n",
       "  </tbody>\n",
       "</table>\n",
       "</div>"
      ],
      "text/plain": [
       "   Loan_Amount_Term  Credit_History  ApplicantIncome_log  \\\n",
       "0             360.0             1.0             8.430109   \n",
       "1             360.0             1.0             7.856707   \n",
       "2             360.0             1.0             8.597297   \n",
       "3             360.0             1.0             7.754910   \n",
       "4             360.0             0.0             8.018296   \n",
       "\n",
       "   CoapplicantIncome_log  LoanAmount_log  Gender_Female  Gender_Male  \\\n",
       "0               7.318540        4.852030              0            1   \n",
       "1               7.765569        4.787492              0            1   \n",
       "2               8.341887        5.587249              0            1   \n",
       "3               7.323831        4.553877              0            1   \n",
       "4               7.825645        5.062595              0            1   \n",
       "\n",
       "   Married_No  Married_Yes  Dependents_0  Dependents_1  Dependents_2  \\\n",
       "0           0            1             0             1             0   \n",
       "1           0            1             1             0             0   \n",
       "2           0            1             0             0             1   \n",
       "3           0            1             1             0             0   \n",
       "4           0            1             0             0             0   \n",
       "\n",
       "   Dependents_3+  Education_Graduate  Education_Not Graduate  \\\n",
       "0              0                   1                       0   \n",
       "1              0                   0                       1   \n",
       "2              0                   1                       0   \n",
       "3              0                   0                       1   \n",
       "4              1                   1                       0   \n",
       "\n",
       "   Self_Employed_No  Self_Employed_Yes  Property_Area_Rural  \\\n",
       "0                 1                  0                    1   \n",
       "1                 1                  0                    0   \n",
       "2                 0                  1                    0   \n",
       "3                 1                  0                    0   \n",
       "4                 1                  0                    0   \n",
       "\n",
       "   Property_Area_Semiurban  Property_Area_Urban  \n",
       "0                        0                    0  \n",
       "1                        0                    1  \n",
       "2                        0                    1  \n",
       "3                        0                    1  \n",
       "4                        1                    0  "
      ]
     },
     "execution_count": 40,
     "metadata": {},
     "output_type": "execute_result"
    }
   ],
   "source": [
    "merged_data_log = imputed_num_log.merge(imputed_categorical_log, on='Loan_ID') #Using similar id columns to merge data\n",
    "merged_data_log.drop(['Loan_ID'], axis=1, inplace=True) #Need to drop Loan_ID now that we have successfully merged our data together\n",
    "merged_data_log.head()"
   ]
  },
  {
   "cell_type": "code",
   "execution_count": 41,
   "id": "private-seller",
   "metadata": {
    "execution": {
     "iopub.execute_input": "2021-05-20T00:16:02.948117Z",
     "iopub.status.busy": "2021-05-20T00:16:02.947402Z",
     "iopub.status.idle": "2021-05-20T00:16:02.950488Z",
     "shell.execute_reply": "2021-05-20T00:16:02.950945Z",
     "shell.execute_reply.started": "2021-05-20T00:01:31.959589Z"
    },
    "papermill": {
     "duration": 0.105374,
     "end_time": "2021-05-20T00:16:02.951120",
     "exception": false,
     "start_time": "2021-05-20T00:16:02.845746",
     "status": "completed"
    },
    "tags": []
   },
   "outputs": [
    {
     "data": {
      "text/html": [
       "<div>\n",
       "<style scoped>\n",
       "    .dataframe tbody tr th:only-of-type {\n",
       "        vertical-align: middle;\n",
       "    }\n",
       "\n",
       "    .dataframe tbody tr th {\n",
       "        vertical-align: top;\n",
       "    }\n",
       "\n",
       "    .dataframe thead th {\n",
       "        text-align: right;\n",
       "    }\n",
       "</style>\n",
       "<table border=\"1\" class=\"dataframe\">\n",
       "  <thead>\n",
       "    <tr style=\"text-align: right;\">\n",
       "      <th></th>\n",
       "      <th>Missing Ratio</th>\n",
       "    </tr>\n",
       "  </thead>\n",
       "  <tbody>\n",
       "  </tbody>\n",
       "</table>\n",
       "</div>"
      ],
      "text/plain": [
       "Empty DataFrame\n",
       "Columns: [Missing Ratio]\n",
       "Index: []"
      ]
     },
     "execution_count": 41,
     "metadata": {},
     "output_type": "execute_result"
    }
   ],
   "source": [
    "all_data_log_nan = (merged_data_log.isnull().sum() / len(merged_data_log)) * 100\n",
    "all_data_log_nan = all_data_log_nan.drop(all_data_log_nan[all_data_log_nan == 0].index).sort_values(ascending=False)[:30]\n",
    "missing_data_log = pd.DataFrame({'Missing Ratio' :all_data_log_nan})\n",
    "missing_data_log.head(10)"
   ]
  },
  {
   "cell_type": "code",
   "execution_count": 42,
   "id": "ambient-fancy",
   "metadata": {
    "execution": {
     "iopub.execute_input": "2021-05-20T00:16:03.148225Z",
     "iopub.status.busy": "2021-05-20T00:16:03.147570Z",
     "iopub.status.idle": "2021-05-20T00:16:03.151222Z",
     "shell.execute_reply": "2021-05-20T00:16:03.150427Z",
     "shell.execute_reply.started": "2021-05-20T00:01:31.973552Z"
    },
    "papermill": {
     "duration": 0.108605,
     "end_time": "2021-05-20T00:16:03.151404",
     "exception": false,
     "start_time": "2021-05-20T00:16:03.042799",
     "status": "completed"
    },
    "tags": []
   },
   "outputs": [
    {
     "name": "stdout",
     "output_type": "stream",
     "text": [
      "<class 'pandas.core.frame.DataFrame'>\n",
      "Int64Index: 341 entries, 0 to 340\n",
      "Data columns (total 20 columns):\n",
      " #   Column                   Non-Null Count  Dtype  \n",
      "---  ------                   --------------  -----  \n",
      " 0   ApplicantIncome          341 non-null    float64\n",
      " 1   CoapplicantIncome        341 non-null    float64\n",
      " 2   LoanAmount               341 non-null    float64\n",
      " 3   Loan_Amount_Term         341 non-null    float64\n",
      " 4   Credit_History           341 non-null    float64\n",
      " 5   Gender_Female            341 non-null    uint8  \n",
      " 6   Gender_Male              341 non-null    uint8  \n",
      " 7   Married_No               341 non-null    uint8  \n",
      " 8   Married_Yes              341 non-null    uint8  \n",
      " 9   Dependents_0             341 non-null    uint8  \n",
      " 10  Dependents_1             341 non-null    uint8  \n",
      " 11  Dependents_2             341 non-null    uint8  \n",
      " 12  Dependents_3+            341 non-null    uint8  \n",
      " 13  Education_Graduate       341 non-null    uint8  \n",
      " 14  Education_Not Graduate   341 non-null    uint8  \n",
      " 15  Self_Employed_No         341 non-null    uint8  \n",
      " 16  Self_Employed_Yes        341 non-null    uint8  \n",
      " 17  Property_Area_Rural      341 non-null    uint8  \n",
      " 18  Property_Area_Semiurban  341 non-null    uint8  \n",
      " 19  Property_Area_Urban      341 non-null    uint8  \n",
      "dtypes: float64(5), uint8(15)\n",
      "memory usage: 21.0 KB\n"
     ]
    }
   ],
   "source": [
    "X_tra_log = merged_data[:nlogtrain]\n",
    "X_test_log = merged_data[nlogtrain:]\n",
    "X_tra_log.info()"
   ]
  },
  {
   "cell_type": "markdown",
   "id": "historical-subscription",
   "metadata": {
    "papermill": {
     "duration": 0.089832,
     "end_time": "2021-05-20T00:16:03.332108",
     "exception": false,
     "start_time": "2021-05-20T00:16:03.242276",
     "status": "completed"
    },
    "tags": []
   },
   "source": [
    "## Modeling the Data"
   ]
  },
  {
   "cell_type": "markdown",
   "id": "damaged-great",
   "metadata": {
    "papermill": {
     "duration": 0.089749,
     "end_time": "2021-05-20T00:16:03.511717",
     "exception": false,
     "start_time": "2021-05-20T00:16:03.421968",
     "status": "completed"
    },
    "tags": []
   },
   "source": [
    "Now we are into the fun part working with building the best model we can for this data. A couple methods will be done. We are going to be using train_test_split and trying a couple different models like LogisticRegression, DecisionTreeClassifier, RandomForest and XGBoost. We will start with our original dataset and then like with the cleaning do the same methods with our log transformation dataset to see if that improved our model at all."
   ]
  },
  {
   "cell_type": "markdown",
   "id": "recovered-coral",
   "metadata": {
    "papermill": {
     "duration": 0.090201,
     "end_time": "2021-05-20T00:16:03.695350",
     "exception": false,
     "start_time": "2021-05-20T00:16:03.605149",
     "status": "completed"
    },
    "tags": []
   },
   "source": [
    "### Base Modeling with train_test_split"
   ]
  },
  {
   "cell_type": "code",
   "execution_count": 43,
   "id": "historic-perth",
   "metadata": {
    "execution": {
     "iopub.execute_input": "2021-05-20T00:16:03.911208Z",
     "iopub.status.busy": "2021-05-20T00:16:03.909980Z",
     "iopub.status.idle": "2021-05-20T00:16:03.915413Z",
     "shell.execute_reply": "2021-05-20T00:16:03.914556Z",
     "shell.execute_reply.started": "2021-05-20T00:01:31.994396Z"
    },
    "papermill": {
     "duration": 0.125172,
     "end_time": "2021-05-20T00:16:03.915606",
     "exception": false,
     "start_time": "2021-05-20T00:16:03.790434",
     "status": "completed"
    },
    "tags": []
   },
   "outputs": [],
   "source": [
    "from sklearn.model_selection import train_test_split\n",
    "X_train, X_cv, y_train, y_cv = train_test_split(X_tra, y, test_size =.3)"
   ]
  },
  {
   "cell_type": "code",
   "execution_count": 44,
   "id": "otherwise-exhibit",
   "metadata": {
    "execution": {
     "iopub.execute_input": "2021-05-20T00:16:04.130019Z",
     "iopub.status.busy": "2021-05-20T00:16:04.127652Z",
     "iopub.status.idle": "2021-05-20T00:16:04.166096Z",
     "shell.execute_reply": "2021-05-20T00:16:04.165571Z",
     "shell.execute_reply.started": "2021-05-20T00:01:32.006792Z"
    },
    "papermill": {
     "duration": 0.151719,
     "end_time": "2021-05-20T00:16:04.166236",
     "exception": false,
     "start_time": "2021-05-20T00:16:04.014517",
     "status": "completed"
    },
    "tags": []
   },
   "outputs": [
    {
     "data": {
      "text/plain": [
       "LogisticRegression()"
      ]
     },
     "execution_count": 44,
     "metadata": {},
     "output_type": "execute_result"
    }
   ],
   "source": [
    "from sklearn.linear_model import LogisticRegression\n",
    "\n",
    "log_model = LogisticRegression()\n",
    "log_model.fit(X_train, y_train)\n",
    "LogisticRegression()"
   ]
  },
  {
   "cell_type": "code",
   "execution_count": 45,
   "id": "center-prague",
   "metadata": {
    "execution": {
     "iopub.execute_input": "2021-05-20T00:16:04.355790Z",
     "iopub.status.busy": "2021-05-20T00:16:04.354942Z",
     "iopub.status.idle": "2021-05-20T00:16:04.358346Z",
     "shell.execute_reply": "2021-05-20T00:16:04.358948Z",
     "shell.execute_reply.started": "2021-05-20T00:01:32.059529Z"
    },
    "papermill": {
     "duration": 0.102661,
     "end_time": "2021-05-20T00:16:04.359118",
     "exception": false,
     "start_time": "2021-05-20T00:16:04.256457",
     "status": "completed"
    },
    "tags": []
   },
   "outputs": [
    {
     "data": {
      "text/plain": [
       "0.7675675675675676"
      ]
     },
     "execution_count": 45,
     "metadata": {},
     "output_type": "execute_result"
    }
   ],
   "source": [
    "from sklearn.metrics import accuracy_score\n",
    "log_pred_cv = log_model.predict(X_cv)\n",
    "accuracy_score(y_cv, log_pred_cv)"
   ]
  },
  {
   "cell_type": "markdown",
   "id": "requested-cleaners",
   "metadata": {
    "papermill": {
     "duration": 0.091065,
     "end_time": "2021-05-20T00:16:04.541547",
     "exception": false,
     "start_time": "2021-05-20T00:16:04.450482",
     "status": "completed"
    },
    "tags": []
   },
   "source": [
    "It looks like our first model is about 80-85% accurate which is not bad at all, but we will work to do see if a better model can be achieved starting with a DecisionTreeClassifier."
   ]
  },
  {
   "cell_type": "code",
   "execution_count": 46,
   "id": "verbal-reality",
   "metadata": {
    "execution": {
     "iopub.execute_input": "2021-05-20T00:16:04.724595Z",
     "iopub.status.busy": "2021-05-20T00:16:04.723594Z",
     "iopub.status.idle": "2021-05-20T00:16:04.771808Z",
     "shell.execute_reply": "2021-05-20T00:16:04.772396Z",
     "shell.execute_reply.started": "2021-05-20T00:01:32.072628Z"
    },
    "papermill": {
     "duration": 0.14121,
     "end_time": "2021-05-20T00:16:04.772579",
     "exception": false,
     "start_time": "2021-05-20T00:16:04.631369",
     "status": "completed"
    },
    "tags": []
   },
   "outputs": [
    {
     "data": {
      "text/plain": [
       "DecisionTreeClassifier()"
      ]
     },
     "execution_count": 46,
     "metadata": {},
     "output_type": "execute_result"
    }
   ],
   "source": [
    "from sklearn import tree\n",
    "\n",
    "tree_model = tree.DecisionTreeClassifier()\n",
    "tree_model.fit(X_train, y_train)\n",
    "tree.DecisionTreeClassifier()"
   ]
  },
  {
   "cell_type": "code",
   "execution_count": 47,
   "id": "placed-carpet",
   "metadata": {
    "execution": {
     "iopub.execute_input": "2021-05-20T00:16:04.959252Z",
     "iopub.status.busy": "2021-05-20T00:16:04.958290Z",
     "iopub.status.idle": "2021-05-20T00:16:04.968003Z",
     "shell.execute_reply": "2021-05-20T00:16:04.967449Z",
     "shell.execute_reply.started": "2021-05-20T00:01:32.101227Z"
    },
    "papermill": {
     "duration": 0.102895,
     "end_time": "2021-05-20T00:16:04.968141",
     "exception": false,
     "start_time": "2021-05-20T00:16:04.865246",
     "status": "completed"
    },
    "tags": []
   },
   "outputs": [
    {
     "data": {
      "text/plain": [
       "0.7513513513513513"
      ]
     },
     "execution_count": 47,
     "metadata": {},
     "output_type": "execute_result"
    }
   ],
   "source": [
    "tree_pred_cv = tree_model.predict(X_cv)\n",
    "accuracy_score(y_cv, tree_pred_cv)"
   ]
  },
  {
   "cell_type": "markdown",
   "id": "understanding-subdivision",
   "metadata": {
    "papermill": {
     "duration": 0.09148,
     "end_time": "2021-05-20T00:16:05.150354",
     "exception": false,
     "start_time": "2021-05-20T00:16:05.058874",
     "status": "completed"
    },
    "tags": []
   },
   "source": [
    "Not as accurate as the logistic regression model, but we will see how a random forest classifier handles the dataset."
   ]
  },
  {
   "cell_type": "code",
   "execution_count": 48,
   "id": "featured-migration",
   "metadata": {
    "execution": {
     "iopub.execute_input": "2021-05-20T00:16:05.336559Z",
     "iopub.status.busy": "2021-05-20T00:16:05.335864Z",
     "iopub.status.idle": "2021-05-20T00:16:05.574443Z",
     "shell.execute_reply": "2021-05-20T00:16:05.574937Z",
     "shell.execute_reply.started": "2021-05-20T00:01:32.115969Z"
    },
    "papermill": {
     "duration": 0.334277,
     "end_time": "2021-05-20T00:16:05.575118",
     "exception": false,
     "start_time": "2021-05-20T00:16:05.240841",
     "status": "completed"
    },
    "tags": []
   },
   "outputs": [
    {
     "data": {
      "text/plain": [
       "RandomForestClassifier()"
      ]
     },
     "execution_count": 48,
     "metadata": {},
     "output_type": "execute_result"
    }
   ],
   "source": [
    "from sklearn.ensemble import RandomForestClassifier\n",
    "\n",
    "forest_model = RandomForestClassifier()\n",
    "forest_model.fit(X_train, y_train)\n",
    "RandomForestClassifier()"
   ]
  },
  {
   "cell_type": "code",
   "execution_count": 49,
   "id": "understanding-replica",
   "metadata": {
    "execution": {
     "iopub.execute_input": "2021-05-20T00:16:05.767858Z",
     "iopub.status.busy": "2021-05-20T00:16:05.767177Z",
     "iopub.status.idle": "2021-05-20T00:16:05.784543Z",
     "shell.execute_reply": "2021-05-20T00:16:05.785073Z",
     "shell.execute_reply.started": "2021-05-20T00:01:32.349804Z"
    },
    "papermill": {
     "duration": 0.116876,
     "end_time": "2021-05-20T00:16:05.785241",
     "exception": false,
     "start_time": "2021-05-20T00:16:05.668365",
     "status": "completed"
    },
    "tags": []
   },
   "outputs": [
    {
     "data": {
      "text/plain": [
       "0.7675675675675676"
      ]
     },
     "execution_count": 49,
     "metadata": {},
     "output_type": "execute_result"
    }
   ],
   "source": [
    "forest_pred_cv = forest_model.predict(X_cv)\n",
    "accuracy_score(y_cv, forest_pred_cv)"
   ]
  },
  {
   "cell_type": "markdown",
   "id": "incident-advisory",
   "metadata": {
    "papermill": {
     "duration": 0.091386,
     "end_time": "2021-05-20T00:16:05.969115",
     "exception": false,
     "start_time": "2021-05-20T00:16:05.877729",
     "status": "completed"
    },
    "tags": []
   },
   "source": [
    "This model did better than the decision tree, but still not as good as the logistic regression. We will try one more method which is XGBoost."
   ]
  },
  {
   "cell_type": "code",
   "execution_count": 50,
   "id": "southern-laundry",
   "metadata": {
    "execution": {
     "iopub.execute_input": "2021-05-20T00:16:06.158804Z",
     "iopub.status.busy": "2021-05-20T00:16:06.158066Z",
     "iopub.status.idle": "2021-05-20T00:16:06.289802Z",
     "shell.execute_reply": "2021-05-20T00:16:06.290340Z",
     "shell.execute_reply.started": "2021-05-20T00:01:32.374758Z"
    },
    "papermill": {
     "duration": 0.22907,
     "end_time": "2021-05-20T00:16:06.290507",
     "exception": false,
     "start_time": "2021-05-20T00:16:06.061437",
     "status": "completed"
    },
    "tags": []
   },
   "outputs": [
    {
     "name": "stdout",
     "output_type": "stream",
     "text": [
      "[00:16:06] WARNING: ../src/learner.cc:1095: Starting in XGBoost 1.3.0, the default evaluation metric used with the objective 'binary:logistic' was changed from 'error' to 'logloss'. Explicitly set eval_metric if you'd like to restore the old behavior.\n"
     ]
    },
    {
     "name": "stderr",
     "output_type": "stream",
     "text": [
      "/opt/conda/lib/python3.7/site-packages/xgboost/sklearn.py:1146: UserWarning: The use of label encoder in XGBClassifier is deprecated and will be removed in a future release. To remove this warning, do the following: 1) Pass option use_label_encoder=False when constructing XGBClassifier object; and 2) Encode your labels (y) as integers starting with 0, i.e. 0, 1, 2, ..., [num_class - 1].\n",
      "  warnings.warn(label_encoder_deprecation_msg, UserWarning)\n"
     ]
    },
    {
     "data": {
      "text/plain": [
       "XGBClassifier(base_score=None, booster=None, colsample_bylevel=None,\n",
       "              colsample_bynode=None, colsample_bytree=None, gamma=None,\n",
       "              gpu_id=None, importance_type='gain', interaction_constraints=None,\n",
       "              learning_rate=None, max_delta_step=None, max_depth=None,\n",
       "              min_child_weight=None, missing=nan, monotone_constraints=None,\n",
       "              n_estimators=100, n_jobs=None, num_parallel_tree=None,\n",
       "              random_state=None, reg_alpha=None, reg_lambda=None,\n",
       "              scale_pos_weight=None, subsample=None, tree_method=None,\n",
       "              validate_parameters=None, verbosity=None)"
      ]
     },
     "execution_count": 50,
     "metadata": {},
     "output_type": "execute_result"
    }
   ],
   "source": [
    "from xgboost import XGBClassifier\n",
    "\n",
    "xgb_model = XGBClassifier(n_estimators=50, max_depth=4)\n",
    "xgb_model.fit(X_train, y_train)\n",
    "XGBClassifier()"
   ]
  },
  {
   "cell_type": "code",
   "execution_count": 51,
   "id": "beautiful-consumer",
   "metadata": {
    "execution": {
     "iopub.execute_input": "2021-05-20T00:16:06.483162Z",
     "iopub.status.busy": "2021-05-20T00:16:06.482156Z",
     "iopub.status.idle": "2021-05-20T00:16:06.498782Z",
     "shell.execute_reply": "2021-05-20T00:16:06.499388Z",
     "shell.execute_reply.started": "2021-05-20T00:01:32.442161Z"
    },
    "papermill": {
     "duration": 0.112369,
     "end_time": "2021-05-20T00:16:06.499602",
     "exception": false,
     "start_time": "2021-05-20T00:16:06.387233",
     "status": "completed"
    },
    "tags": []
   },
   "outputs": [
    {
     "name": "stderr",
     "output_type": "stream",
     "text": [
      "/opt/conda/lib/python3.7/site-packages/xgboost/data.py:114: UserWarning: Use subset (sliced data) of np.ndarray is not recommended because it will generate extra copies and increase memory consumption\n",
      "  \"because it will generate extra copies and increase \" +\n"
     ]
    },
    {
     "data": {
      "text/plain": [
       "0.7513513513513513"
      ]
     },
     "execution_count": 51,
     "metadata": {},
     "output_type": "execute_result"
    }
   ],
   "source": [
    "xgb_pred_cv = xgb_model.predict(X_cv)\n",
    "accuracy_score(y_cv, xgb_pred_cv)"
   ]
  },
  {
   "cell_type": "markdown",
   "id": "refined-dynamics",
   "metadata": {
    "papermill": {
     "duration": 0.092964,
     "end_time": "2021-05-20T00:16:06.687631",
     "exception": false,
     "start_time": "2021-05-20T00:16:06.594667",
     "status": "completed"
    },
    "tags": []
   },
   "source": [
    "Our xgb did not do as well as the logistic regression model, so we will go ahead and just try to beef up the logistic regression model the best it can be. This starts with seeing if our log transformations helped the model."
   ]
  },
  {
   "cell_type": "markdown",
   "id": "alpine-stability",
   "metadata": {
    "papermill": {
     "duration": 0.09537,
     "end_time": "2021-05-20T00:16:06.876036",
     "exception": false,
     "start_time": "2021-05-20T00:16:06.780666",
     "status": "completed"
    },
    "tags": []
   },
   "source": [
    "### Log Dataset Modeling"
   ]
  },
  {
   "cell_type": "code",
   "execution_count": 52,
   "id": "spiritual-connecticut",
   "metadata": {
    "execution": {
     "iopub.execute_input": "2021-05-20T00:16:07.070932Z",
     "iopub.status.busy": "2021-05-20T00:16:07.069916Z",
     "iopub.status.idle": "2021-05-20T00:16:07.072418Z",
     "shell.execute_reply": "2021-05-20T00:16:07.072860Z",
     "shell.execute_reply.started": "2021-05-20T00:01:32.467154Z"
    },
    "papermill": {
     "duration": 0.102874,
     "end_time": "2021-05-20T00:16:07.073056",
     "exception": false,
     "start_time": "2021-05-20T00:16:06.970182",
     "status": "completed"
    },
    "tags": []
   },
   "outputs": [],
   "source": [
    "X_train_log, X_cv_log, y_train_log, y_cv_log = train_test_split(X_tra_log, y_log, test_size =.3)"
   ]
  },
  {
   "cell_type": "code",
   "execution_count": 53,
   "id": "expected-tomorrow",
   "metadata": {
    "execution": {
     "iopub.execute_input": "2021-05-20T00:16:07.293552Z",
     "iopub.status.busy": "2021-05-20T00:16:07.292350Z",
     "iopub.status.idle": "2021-05-20T00:16:07.297180Z",
     "shell.execute_reply": "2021-05-20T00:16:07.296640Z",
     "shell.execute_reply.started": "2021-05-20T00:01:32.474741Z"
    },
    "papermill": {
     "duration": 0.129311,
     "end_time": "2021-05-20T00:16:07.297328",
     "exception": false,
     "start_time": "2021-05-20T00:16:07.168017",
     "status": "completed"
    },
    "tags": []
   },
   "outputs": [
    {
     "data": {
      "text/plain": [
       "LogisticRegression()"
      ]
     },
     "execution_count": 53,
     "metadata": {},
     "output_type": "execute_result"
    }
   ],
   "source": [
    "log_model.fit(X_train_log, y_train_log)\n",
    "LogisticRegression()"
   ]
  },
  {
   "cell_type": "code",
   "execution_count": 54,
   "id": "voluntary-fighter",
   "metadata": {
    "execution": {
     "iopub.execute_input": "2021-05-20T00:16:07.494246Z",
     "iopub.status.busy": "2021-05-20T00:16:07.493110Z",
     "iopub.status.idle": "2021-05-20T00:16:07.497393Z",
     "shell.execute_reply": "2021-05-20T00:16:07.496761Z",
     "shell.execute_reply.started": "2021-05-20T00:01:32.500378Z"
    },
    "papermill": {
     "duration": 0.105817,
     "end_time": "2021-05-20T00:16:07.497543",
     "exception": false,
     "start_time": "2021-05-20T00:16:07.391726",
     "status": "completed"
    },
    "tags": []
   },
   "outputs": [
    {
     "data": {
      "text/plain": [
       "0.7184466019417476"
      ]
     },
     "execution_count": 54,
     "metadata": {},
     "output_type": "execute_result"
    }
   ],
   "source": [
    "log_pred_cv_log = log_model.predict(X_cv_log)\n",
    "accuracy_score(y_cv_log, log_pred_cv_log)"
   ]
  },
  {
   "cell_type": "markdown",
   "id": "material-tuning",
   "metadata": {
    "papermill": {
     "duration": 0.093189,
     "end_time": "2021-05-20T00:16:07.684421",
     "exception": false,
     "start_time": "2021-05-20T00:16:07.591232",
     "status": "completed"
    },
    "tags": []
   },
   "source": [
    "As it appears the making of new columns for log transformations was not very influential for finding a good model."
   ]
  },
  {
   "cell_type": "markdown",
   "id": "unsigned-coupon",
   "metadata": {
    "papermill": {
     "duration": 0.094951,
     "end_time": "2021-05-20T00:16:07.873398",
     "exception": false,
     "start_time": "2021-05-20T00:16:07.778447",
     "status": "completed"
    },
    "tags": []
   },
   "source": [
    "#### Final Model"
   ]
  },
  {
   "cell_type": "markdown",
   "id": "serious-administrator",
   "metadata": {
    "papermill": {
     "duration": 0.097968,
     "end_time": "2021-05-20T00:16:08.065119",
     "exception": false,
     "start_time": "2021-05-20T00:16:07.967151",
     "status": "completed"
    },
    "tags": []
   },
   "source": [
    "It seems like our basic logistic regression model actually appeared to do the best for this dataset. Before calling it quits a few things will be checked out to see if any slight improvements can be made to our Logistic Regression model."
   ]
  },
  {
   "cell_type": "code",
   "execution_count": 55,
   "id": "awful-satisfaction",
   "metadata": {
    "execution": {
     "iopub.execute_input": "2021-05-20T00:16:08.258581Z",
     "iopub.status.busy": "2021-05-20T00:16:08.257851Z",
     "iopub.status.idle": "2021-05-20T00:16:08.261502Z",
     "shell.execute_reply": "2021-05-20T00:16:08.260885Z",
     "shell.execute_reply.started": "2021-05-20T00:01:32.512123Z"
    },
    "papermill": {
     "duration": 0.102161,
     "end_time": "2021-05-20T00:16:08.261643",
     "exception": false,
     "start_time": "2021-05-20T00:16:08.159482",
     "status": "completed"
    },
    "tags": []
   },
   "outputs": [],
   "source": [
    "#Credit for ideas on improvement: https://stackoverflow.com/questions/38077190/how-to-increase-the-model-accuracy-of-logistic-regression-in-scikit-python\n",
    "#Credit for ideas on improvement: https://scikit-learn.org/stable/modules/generated/sklearn.linear_model.LogisticRegression.html\n",
    "\n",
    "#log_model = LogisticRegression()\n",
    "#log_model.fit(X_train, y_train)\n",
    "#LogisticRegression()\n",
    "\n",
    "#log_pred_cv = log_model.predict(X_cv)\n",
    "#accuracy_score(y_cv, log_pred_cv)"
   ]
  },
  {
   "cell_type": "code",
   "execution_count": 56,
   "id": "located-silver",
   "metadata": {
    "execution": {
     "iopub.execute_input": "2021-05-20T00:16:08.458404Z",
     "iopub.status.busy": "2021-05-20T00:16:08.457235Z",
     "iopub.status.idle": "2021-05-20T00:16:08.492876Z",
     "shell.execute_reply": "2021-05-20T00:16:08.492103Z",
     "shell.execute_reply.started": "2021-05-20T00:02:58.852872Z"
    },
    "papermill": {
     "duration": 0.137483,
     "end_time": "2021-05-20T00:16:08.493057",
     "exception": false,
     "start_time": "2021-05-20T00:16:08.355574",
     "status": "completed"
    },
    "tags": []
   },
   "outputs": [
    {
     "data": {
      "text/plain": [
       "0.7675675675675676"
      ]
     },
     "execution_count": 56,
     "metadata": {},
     "output_type": "execute_result"
    }
   ],
   "source": [
    "log_model1 = LogisticRegression(random_state=42)\n",
    "log_model1.fit(X_train, y_train)\n",
    "\n",
    "log_pred_cv1 = log_model1.predict(X_cv)\n",
    "accuracy_score(y_cv, log_pred_cv1)\n",
    "#We get about the same results"
   ]
  },
  {
   "cell_type": "code",
   "execution_count": 57,
   "id": "foster-chicago",
   "metadata": {
    "execution": {
     "iopub.execute_input": "2021-05-20T00:16:08.692058Z",
     "iopub.status.busy": "2021-05-20T00:16:08.691129Z",
     "iopub.status.idle": "2021-05-20T00:16:08.726077Z",
     "shell.execute_reply": "2021-05-20T00:16:08.725377Z",
     "shell.execute_reply.started": "2021-05-20T00:03:01.353062Z"
    },
    "papermill": {
     "duration": 0.137553,
     "end_time": "2021-05-20T00:16:08.726226",
     "exception": false,
     "start_time": "2021-05-20T00:16:08.588673",
     "status": "completed"
    },
    "tags": []
   },
   "outputs": [
    {
     "data": {
      "text/plain": [
       "0.7675675675675676"
      ]
     },
     "execution_count": 57,
     "metadata": {},
     "output_type": "execute_result"
    }
   ],
   "source": [
    "log_model2 = LogisticRegression(random_state=42, solver='lbfgs')\n",
    "log_model2.fit(X_train, y_train)\n",
    "\n",
    "log_pred_cv2 = log_model2.predict(X_cv)\n",
    "accuracy_score(y_cv, log_pred_cv2)"
   ]
  },
  {
   "cell_type": "code",
   "execution_count": 58,
   "id": "academic-universe",
   "metadata": {
    "execution": {
     "iopub.execute_input": "2021-05-20T00:16:08.924710Z",
     "iopub.status.busy": "2021-05-20T00:16:08.924029Z",
     "iopub.status.idle": "2021-05-20T00:16:08.927843Z",
     "shell.execute_reply": "2021-05-20T00:16:08.926893Z",
     "shell.execute_reply.started": "2021-05-20T00:05:56.963533Z"
    },
    "papermill": {
     "duration": 0.105061,
     "end_time": "2021-05-20T00:16:08.928007",
     "exception": false,
     "start_time": "2021-05-20T00:16:08.822946",
     "status": "completed"
    },
    "tags": []
   },
   "outputs": [],
   "source": [
    "#Our final model will be our log_model2 and we want to now use it to predict based on the information in our test dataset\n",
    "final_model = log_model2\n",
    "pred_test = final_model.predict(X_test)"
   ]
  },
  {
   "cell_type": "code",
   "execution_count": 59,
   "id": "subsequent-pipeline",
   "metadata": {
    "execution": {
     "iopub.execute_input": "2021-05-20T00:16:09.132719Z",
     "iopub.status.busy": "2021-05-20T00:16:09.131828Z",
     "iopub.status.idle": "2021-05-20T00:16:09.135160Z",
     "shell.execute_reply": "2021-05-20T00:16:09.135639Z",
     "shell.execute_reply.started": "2021-05-20T00:09:54.605857Z"
    },
    "papermill": {
     "duration": 0.111216,
     "end_time": "2021-05-20T00:16:09.135803",
     "exception": false,
     "start_time": "2021-05-20T00:16:09.024587",
     "status": "completed"
    },
    "tags": []
   },
   "outputs": [
    {
     "data": {
      "text/plain": [
       "Y    307\n",
       "N     60\n",
       "Name: Loan_Status, dtype: int64"
      ]
     },
     "execution_count": 59,
     "metadata": {},
     "output_type": "execute_result"
    }
   ],
   "source": [
    "#Make new dataframe for our identification and loan_status predictions\n",
    "submission = pd.DataFrame()\n",
    "\n",
    "#Putting data into submission dataframe\n",
    "submission['Loan_Status'] = pred_test\n",
    "submission['Loan_ID'] = test_original['Loan_ID']\n",
    "\n",
    "#Makes more sense to put in terms of 'Y' and 'N' instead of 1 and 0 when talking about a loan being approved\n",
    "submission['Loan_Status'].replace(0, 'N', inplace=True)\n",
    "submission['Loan_Status'].replace(1, 'Y', inplace=True)\n",
    "\n",
    "submission.Loan_Status.value_counts()"
   ]
  },
  {
   "cell_type": "markdown",
   "id": "every-typing",
   "metadata": {
    "papermill": {
     "duration": 0.096096,
     "end_time": "2021-05-20T00:16:09.327099",
     "exception": false,
     "start_time": "2021-05-20T00:16:09.231003",
     "status": "completed"
    },
    "tags": []
   },
   "source": [
    "From this we are predicting that the test dataset will have 305 accepted loans and 62 denied loans. Thinking back to the amount of loans that were approved and denied in the train dataset there were about 68% of applications that were accepted. With our model there are about 83% of applications that are accepted. This could be in part to either the fact that we are 80% accurate or the fact that there are simply more applicants in the test dataset that would qualify for a loan than in the train dataset."
   ]
  }
 ],
 "metadata": {
  "kernelspec": {
   "display_name": "Python 3",
   "language": "python",
   "name": "python3"
  },
  "language_info": {
   "codemirror_mode": {
    "name": "ipython",
    "version": 3
   },
   "file_extension": ".py",
   "mimetype": "text/x-python",
   "name": "python",
   "nbconvert_exporter": "python",
   "pygments_lexer": "ipython3",
   "version": "3.7.10"
  },
  "papermill": {
   "default_parameters": {},
   "duration": 31.110709,
   "end_time": "2021-05-20T00:16:10.823416",
   "environment_variables": {},
   "exception": null,
   "input_path": "__notebook__.ipynb",
   "output_path": "__notebook__.ipynb",
   "parameters": {},
   "start_time": "2021-05-20T00:15:39.712707",
   "version": "2.3.3"
  }
 },
 "nbformat": 4,
 "nbformat_minor": 5
}
